{
 "cells": [
  {
   "cell_type": "markdown",
   "metadata": {},
   "source": [
    "# A modular GCD algorithm\n",
    "\n",
    "The individual steps are the same as in the script. Given are two polynomials $a, b \\in \\mathbb{Z}[x_1, \\dots, x_s][x_n]$ with $0 \\leq s < n$."
   ]
  },
  {
   "cell_type": "code",
   "execution_count": 1,
   "metadata": {},
   "outputs": [],
   "source": [
    "I.<y,x> = PolynomialRing(QQ, order='lex')"
   ]
  },
  {
   "cell_type": "code",
   "execution_count": 2,
   "metadata": {},
   "outputs": [],
   "source": [
    "a = 2*x^2*y^3 - x*y^3 + x^3*y^2 + 2*x^4 * y-x^3*y - 6*x*y + 3*y + x^5 - 3*x^2\n",
    "b = 2*x*y^3 - y^3 - x^2*y^2 + x*y^2 - x^3*y + 4*x*y - 2*y + 2*x^2"
   ]
  },
  {
   "cell_type": "markdown",
   "metadata": {},
   "source": [
    "$$\n",
    "a(x, y) = 2 y^{3} x^{2} - y^{3} x + y^{2} x^{3} + 2 y x^{4} - y x^{3} - 6 y x + 3 y + x^{5} - 3 x^{2} \\\\\n",
    "b(x, y) = 2 y^{3} x - y^{3} - y^{2} x^{2} + y^{2} x - y x^{3} + 4 y x - 2 y + 2 x^{2}\n",
    "$$"
   ]
  },
  {
   "cell_type": "markdown",
   "metadata": {},
   "source": [
    "## Step 0: Univariate polynomials?\n",
    "\n",
    "$$\n",
    "\\begin{align}\n",
    "(0) \\quad \\text{if } s=0 \\text{ then } g:=\\text{gcd}(\\text{cont}(a),\\text{cont}(b))\\text{GCD_MOD}(\\text{pp}(a),\\text{pp}(b)); \\text{ return } g\n",
    "\\end{align}\n",
    "$$"
   ]
  },
  {
   "cell_type": "code",
   "execution_count": 3,
   "metadata": {},
   "outputs": [
    {
     "data": {
      "text/plain": [
       "False"
      ]
     },
     "execution_count": 3,
     "metadata": {},
     "output_type": "execute_result"
    }
   ],
   "source": [
    "a.is_univariate() or b.is_univariate()"
   ]
  },
  {
   "cell_type": "markdown",
   "metadata": {},
   "source": [
    "The polynomials $a$ and $b$ are thus not univariate and Step 0 doesn't apply. But what if it does?"
   ]
  },
  {
   "cell_type": "code",
   "execution_count": 4,
   "metadata": {},
   "outputs": [
    {
     "data": {
      "text/plain": [
       "True"
      ]
     },
     "execution_count": 4,
     "metadata": {},
     "output_type": "execute_result"
    }
   ],
   "source": [
    "a_uni = 2*x^6 - 13*x^5 + 20*x^4 + 12*x^3 - 20*x^2 - 15*x - 18\n",
    "b_uni = 2*x^6 + x^5 - 14*x^4 - 11*x^3 + 22*x^2 + 28*x + 8\n",
    "\n",
    "a_uni.is_univariate() or b.is_univariate()"
   ]
  },
  {
   "cell_type": "code",
   "execution_count": 5,
   "metadata": {},
   "outputs": [
    {
     "data": {
      "text/plain": [
       "x^2 - x - 2"
      ]
     },
     "execution_count": 5,
     "metadata": {},
     "output_type": "execute_result"
    }
   ],
   "source": [
    "(a_uni / a_uni.content()).gcd(b_uni / b_uni.content()) * a_uni.content().gcd(b_uni.content())"
   ]
  },
  {
   "cell_type": "markdown",
   "metadata": {},
   "source": [
    "This is the GCD. So for univariate polynomials we're already finished."
   ]
  },
  {
   "cell_type": "markdown",
   "metadata": {},
   "source": [
    "## Step 1: Setting things up\n",
    "\n",
    "$$\n",
    "\\begin{align}\n",
    "(1) & \\quad & M:=1+\\text{min}\\left(\\text{deg}_{x_s}(a),\\text{deg}_{x_s}(b)\\right) \\\\\n",
    "& \\quad & a':=\\text{pp}_{x_n}(a) \\\\\n",
    "& \\quad & b':=\\text{pp}_{x_n}(b) \\\\\n",
    "& \\quad & f:=\\text{GCD_MODm}\\left(\\text{cont}_{x_n}(a),\\text{cont}_{x_n}(b),s,s-1\\right) \\\\\n",
    "& \\quad & d:=\\text{GCD_MODm}\\left(\\text{lc}_{x_n}(a'),\\text{lc}_{x_n}(b'),s,s-1\\right)\n",
    "\\end{align}\n",
    "$$"
   ]
  },
  {
   "cell_type": "code",
   "execution_count": 6,
   "metadata": {},
   "outputs": [
    {
     "data": {
      "text/plain": [
       "(y, x)"
      ]
     },
     "execution_count": 6,
     "metadata": {},
     "output_type": "execute_result"
    }
   ],
   "source": [
    "xn = I.gens()[0]\n",
    "xs = I.gens()[1]\n",
    "\n",
    "xn, xs"
   ]
  },
  {
   "cell_type": "code",
   "execution_count": 7,
   "metadata": {},
   "outputs": [
    {
     "data": {
      "text/plain": [
       "4"
      ]
     },
     "execution_count": 7,
     "metadata": {},
     "output_type": "execute_result"
    }
   ],
   "source": [
    "M = 1 + min(a.degree(xs), b.degree(xs))\n",
    "M"
   ]
  },
  {
   "cell_type": "code",
   "execution_count": 8,
   "metadata": {},
   "outputs": [
    {
     "data": {
      "text/plain": [
       "2*y^3*x^2 - y^3*x + y^2*x^3 + 2*y*x^4 - y*x^3 - 6*y*x + 3*y + x^5 - 3*x^2"
      ]
     },
     "execution_count": 8,
     "metadata": {},
     "output_type": "execute_result"
    }
   ],
   "source": [
    "a_prime = a / gcd(a.polynomial(xn).list())\n",
    "a_prime"
   ]
  },
  {
   "cell_type": "code",
   "execution_count": 9,
   "metadata": {},
   "outputs": [
    {
     "data": {
      "text/plain": [
       "2*y^3*x - y^3 - y^2*x^2 + y^2*x - y*x^3 + 4*y*x - 2*y + 2*x^2"
      ]
     },
     "execution_count": 9,
     "metadata": {},
     "output_type": "execute_result"
    }
   ],
   "source": [
    "b_prime = b / gcd(b.polynomial(xn).list())\n",
    "b_prime"
   ]
  },
  {
   "cell_type": "code",
   "execution_count": 10,
   "metadata": {},
   "outputs": [
    {
     "data": {
      "text/plain": [
       "(True, True)"
      ]
     },
     "execution_count": 10,
     "metadata": {},
     "output_type": "execute_result"
    }
   ],
   "source": [
    "a_prime == a, b_prime == b"
   ]
  },
  {
   "cell_type": "markdown",
   "metadata": {},
   "source": [
    "In this case, $a'$ and $b'$ are just our original polynomials."
   ]
  },
  {
   "cell_type": "code",
   "execution_count": 11,
   "metadata": {},
   "outputs": [
    {
     "data": {
      "text/plain": [
       "1"
      ]
     },
     "execution_count": 11,
     "metadata": {},
     "output_type": "execute_result"
    }
   ],
   "source": [
    "f = gcd(gcd(a.polynomial(xn).list()), gcd(b.polynomial(xn).list()))\n",
    "f"
   ]
  },
  {
   "cell_type": "code",
   "execution_count": 12,
   "metadata": {},
   "outputs": [
    {
     "data": {
      "text/plain": [
       "x - 1/2"
      ]
     },
     "execution_count": 12,
     "metadata": {},
     "output_type": "execute_result"
    }
   ],
   "source": [
    "d = gcd(a_prime.polynomial(xn).lc(), b_prime.polynomial(xn).lc())\n",
    "d"
   ]
  },
  {
   "cell_type": "markdown",
   "metadata": {},
   "source": [
    "## Step 2\n",
    "\n",
    "$$\n",
    "\\begin{align}\n",
    "(2) & \\quad & r:=\\text{ an integer s.t. }\\text{deg}_{x_n}(a'_{x_{s}-r})=\\text{deg}_{x_n}(a')\\text{ or }\\text{deg}_{x_n}(b'_{x_{s}-r})=\\text{deg}_{x_n}(b') \\\\\n",
    "& \\quad & g'_{(r)}:=\\text{GCD_MODm}(a'_{x_{s}-r},b'_{x_{s}-r},n,s-1) \\\\\n",
    "& \\quad & c:=\\text{lc}_{x_n}(g'_{(r)}) \\\\\n",
    "& \\quad & g_{(r)}:=(d_{x_s-r}\\cdot g'_{(r)})/c \\quad \\text{(but if the division fails, go to (2))}\n",
    "\\end{align}\n",
    "$$"
   ]
  },
  {
   "cell_type": "code",
   "execution_count": 13,
   "metadata": {},
   "outputs": [
    {
     "data": {
      "text/plain": [
       "y^3 + y^2 - 2*y - 2"
      ]
     },
     "execution_count": 13,
     "metadata": {},
     "output_type": "execute_result"
    }
   ],
   "source": [
    "a_prime.substitute({xs:1})"
   ]
  },
  {
   "cell_type": "code",
   "execution_count": 14,
   "metadata": {},
   "outputs": [
    {
     "data": {
      "text/plain": [
       "(3, 3)"
      ]
     },
     "execution_count": 14,
     "metadata": {},
     "output_type": "execute_result"
    }
   ],
   "source": [
    "a_prime.substitute({xs:1}).degree(xn), a_prime.degree(xn)"
   ]
  },
  {
   "cell_type": "code",
   "execution_count": 15,
   "metadata": {},
   "outputs": [
    {
     "data": {
      "text/plain": [
       "(3, 3)"
      ]
     },
     "execution_count": 15,
     "metadata": {},
     "output_type": "execute_result"
    }
   ],
   "source": [
    "b_prime.substitute({xs:1}).degree(xn), b_prime.degree(xn)"
   ]
  },
  {
   "cell_type": "markdown",
   "metadata": {},
   "source": [
    "So we can choose $r=1$. To do this more systematically (also to reuse code later), let's write a class that remembers $r$ and in which we can build in a couple safeguarding features."
   ]
  },
  {
   "cell_type": "code",
   "execution_count": 16,
   "metadata": {},
   "outputs": [],
   "source": [
    "class r_int():\n",
    "    def __init__(self, r_max=10000):\n",
    "        self.r = 0\n",
    "        self.r_max = r_max\n",
    "    \n",
    "    def reset_r(self):\n",
    "        self.r = 0\n",
    "        \n",
    "    def get_new_r(self, a_prime, b_prime, xs, xn):\n",
    "        while self.r < self.r_max:\n",
    "            self.r += 1\n",
    "            if a_prime.substitute({xs:self.r}).degree(xn) == a_prime.degree(xn):\n",
    "                return self.r\n",
    "            if b_prime.substitute({xs:self.r}).degree(xn) == b_prime.degree(xn):\n",
    "                return self.r\n",
    "        raise Exception(\"r exceeded r_max\")"
   ]
  },
  {
   "cell_type": "code",
   "execution_count": 17,
   "metadata": {},
   "outputs": [
    {
     "data": {
      "text/plain": [
       "1"
      ]
     },
     "execution_count": 17,
     "metadata": {},
     "output_type": "execute_result"
    }
   ],
   "source": [
    "variable_r = r_int()\n",
    "variable_r.get_new_r(a_prime, b_prime, xs, xn)"
   ]
  },
  {
   "cell_type": "code",
   "execution_count": 18,
   "metadata": {},
   "outputs": [
    {
     "data": {
      "text/plain": [
       "1"
      ]
     },
     "execution_count": 18,
     "metadata": {},
     "output_type": "execute_result"
    }
   ],
   "source": [
    "variable_r.r"
   ]
  },
  {
   "cell_type": "code",
   "execution_count": 19,
   "metadata": {},
   "outputs": [
    {
     "data": {
      "text/plain": [
       "y + 1"
      ]
     },
     "execution_count": 19,
     "metadata": {},
     "output_type": "execute_result"
    }
   ],
   "source": [
    "g_prime = a_prime.substitute({xs:variable_r.r}).gcd(b_prime.substitute({xs:variable_r.r}))\n",
    "g_prime"
   ]
  },
  {
   "cell_type": "code",
   "execution_count": 20,
   "metadata": {},
   "outputs": [
    {
     "data": {
      "text/plain": [
       "1"
      ]
     },
     "execution_count": 20,
     "metadata": {},
     "output_type": "execute_result"
    }
   ],
   "source": [
    "c = g_prime.polynomial(xn).lc()\n",
    "c"
   ]
  },
  {
   "cell_type": "code",
   "execution_count": 21,
   "metadata": {},
   "outputs": [
    {
     "data": {
      "text/plain": [
       "1/2*y + 1/2"
      ]
     },
     "execution_count": 21,
     "metadata": {},
     "output_type": "execute_result"
    }
   ],
   "source": [
    "g_r = (d.substitute({xs:variable_r.r}) * g_prime) / c\n",
    "g_r"
   ]
  },
  {
   "cell_type": "markdown",
   "metadata": {},
   "source": [
    "If the division fails, we're supposed to go to (2). We can test that with ```quo_rem()```. The division definitely fails when the quotient is 0."
   ]
  },
  {
   "cell_type": "code",
   "execution_count": 22,
   "metadata": {},
   "outputs": [
    {
     "data": {
      "text/plain": [
       "(1/2*y + 1/2, 0)"
      ]
     },
     "execution_count": 22,
     "metadata": {},
     "output_type": "execute_result"
    }
   ],
   "source": [
    "(d.substitute({xs:variable_r.r}) * g_prime).quo_rem(c)"
   ]
  },
  {
   "cell_type": "markdown",
   "metadata": {},
   "source": [
    "## Step 3\n",
    "\n",
    "$$\n",
    "\\begin{align}\n",
    "(2) & \\quad & m:=1 \\\\\n",
    "& \\quad & g:=g_{(r)} \\\\\n",
    "\\end{align}\n",
    "$$"
   ]
  },
  {
   "cell_type": "code",
   "execution_count": 23,
   "metadata": {},
   "outputs": [
    {
     "data": {
      "text/plain": [
       "1"
      ]
     },
     "execution_count": 23,
     "metadata": {},
     "output_type": "execute_result"
    }
   ],
   "source": [
    "m = 1\n",
    "m"
   ]
  },
  {
   "cell_type": "code",
   "execution_count": 24,
   "metadata": {},
   "outputs": [
    {
     "data": {
      "text/plain": [
       "1/2*y + 1/2"
      ]
     },
     "execution_count": 24,
     "metadata": {},
     "output_type": "execute_result"
    }
   ],
   "source": [
    "g = g_r\n",
    "g"
   ]
  },
  {
   "cell_type": "markdown",
   "metadata": {},
   "source": [
    "## Step 4\n",
    "\n",
    "$$\n",
    "\\begin{align}\n",
    "(2) &  & \\text{while }m\\leq M\\text{ do} & \\\\\n",
    "&  &  & r:=\\text{ a new integer s.t. }\\text{deg}_{x_n}(a'_{x_{s}-r})=\\text{deg}_{x_n}(a')\\text{ or }\\text{deg}_{x_n}(b'_{x_{s}-r})=\\text{deg}_{x_n}(b') \\\\\n",
    "& & & g'_{(r)}:=\\text{GCD_MODm}(a'_{x_{s}-r},b'_{x_{s}-r},n,s-1) \\\\\n",
    "& & & c:=\\text{lc}_{x_n}(g'_{(r)}) \\\\\n",
    "& & & g_{(r)}:=(d_{x_s-r}\\cdot g'_{(r)})/c \\quad \\text{(but if the division fails, continue)} \\\\\n",
    "& & & \\text{if }\\text{deg}_{x_n}(g_{(r)})<\\text{deg}_{x_n}(g)\\text{ then goto (3))} \\\\\n",
    "& & & \\text{if }\\text{deg}_{x_n}(g_{(r)})=\\text{deg}(g) \\\\\n",
    "& & & \\text{then incorporate }g_{(r)}\\text{ into }g\\text{ by Newton interpolation} \\\\\n",
    "& & & m:=m+1\n",
    "\\end{align}\n",
    "$$\n",
    "\n",
    "We'll do the while-loop later. Let's just do the steps manually for now."
   ]
  },
  {
   "cell_type": "code",
   "execution_count": 25,
   "metadata": {},
   "outputs": [
    {
     "data": {
      "text/plain": [
       "2"
      ]
     },
     "execution_count": 25,
     "metadata": {},
     "output_type": "execute_result"
    }
   ],
   "source": [
    "variable_r.get_new_r(a_prime, b_prime, xs, xn)"
   ]
  },
  {
   "cell_type": "code",
   "execution_count": 26,
   "metadata": {},
   "outputs": [
    {
     "data": {
      "text/plain": [
       "3*y + 4"
      ]
     },
     "execution_count": 26,
     "metadata": {},
     "output_type": "execute_result"
    }
   ],
   "source": [
    "g_prime = a_prime.substitute({xs:variable_r.r}).gcd(b_prime.substitute({xs:variable_r.r}))\n",
    "g_prime"
   ]
  },
  {
   "cell_type": "code",
   "execution_count": 27,
   "metadata": {},
   "outputs": [
    {
     "data": {
      "text/plain": [
       "3"
      ]
     },
     "execution_count": 27,
     "metadata": {},
     "output_type": "execute_result"
    }
   ],
   "source": [
    "c = g_prime.polynomial(xn).lc()\n",
    "c"
   ]
  },
  {
   "cell_type": "code",
   "execution_count": 28,
   "metadata": {},
   "outputs": [
    {
     "data": {
      "text/plain": [
       "3/2*y + 2"
      ]
     },
     "execution_count": 28,
     "metadata": {},
     "output_type": "execute_result"
    }
   ],
   "source": [
    "g_r = (d.substitute({xs:variable_r.r}) * g_prime) / c\n",
    "g_r"
   ]
  },
  {
   "cell_type": "code",
   "execution_count": 29,
   "metadata": {},
   "outputs": [
    {
     "data": {
      "text/plain": [
       "False"
      ]
     },
     "execution_count": 29,
     "metadata": {},
     "output_type": "execute_result"
    }
   ],
   "source": [
    "g_r.degree(xn) < g.degree(xn)"
   ]
  },
  {
   "cell_type": "markdown",
   "metadata": {},
   "source": [
    "So we don't have to go to (3) in this case."
   ]
  },
  {
   "cell_type": "code",
   "execution_count": 30,
   "metadata": {},
   "outputs": [
    {
     "data": {
      "text/plain": [
       "True"
      ]
     },
     "execution_count": 30,
     "metadata": {},
     "output_type": "execute_result"
    }
   ],
   "source": [
    "g_r.degree(xn) == g.degree(xn)"
   ]
  },
  {
   "cell_type": "code",
   "execution_count": 31,
   "metadata": {},
   "outputs": [
    {
     "data": {
      "text/plain": [
       "(3/2*y + 2, 1/2*y + 1/2)"
      ]
     },
     "execution_count": 31,
     "metadata": {},
     "output_type": "execute_result"
    }
   ],
   "source": [
    "g_r, g"
   ]
  },
  {
   "cell_type": "code",
   "execution_count": 32,
   "metadata": {},
   "outputs": [],
   "source": [
    "def interpolate(r1, poly1, r2, poly2, I, var):\n",
    "    from sympy.polys.polyfuncs import interpolate\n",
    "    import sympy\n",
    "    \n",
    "    poly1s = sympy.sympify(poly1.__repr__())\n",
    "    poly2s = sympy.sympify(poly2.__repr__())\n",
    "    \n",
    "    symb = sympy.Symbol(var.__repr__())\n",
    "    \n",
    "    result = interpolate([(r1, poly1s), (r2, poly2s)], symb)\n",
    "    \n",
    "    return I(result)"
   ]
  },
  {
   "cell_type": "code",
   "execution_count": 33,
   "metadata": {},
   "outputs": [
    {
     "data": {
      "text/plain": [
       "y*x - 1/2*y + 3/2*x - 1"
      ]
     },
     "execution_count": 33,
     "metadata": {},
     "output_type": "execute_result"
    }
   ],
   "source": [
    "interim_result = interpolate(1, g, 2, g_r, I, xs)\n",
    "interim_result"
   ]
  },
  {
   "cell_type": "code",
   "execution_count": 34,
   "metadata": {},
   "outputs": [
    {
     "data": {
      "text/plain": [
       "(0, 1/2*y + 1/2)"
      ]
     },
     "execution_count": 34,
     "metadata": {},
     "output_type": "execute_result"
    }
   ],
   "source": [
    "g.quo_rem(interim_result)"
   ]
  },
  {
   "cell_type": "markdown",
   "metadata": {},
   "source": [
    "So this is not the gcd and the algorithm continues, i.e. we set $m:=m+1$ and start again at (4). Note also that we have to save each $g$ for the interpolation later, so we'll have to modify our function ```interpolate``` to accept more than two polynomials in the future."
   ]
  },
  {
   "cell_type": "code",
   "execution_count": 46,
   "metadata": {},
   "outputs": [
    {
     "data": {
      "text/plain": [
       "(3, 4)"
      ]
     },
     "execution_count": 46,
     "metadata": {},
     "output_type": "execute_result"
    }
   ],
   "source": [
    "m = m + 1\n",
    "m, M"
   ]
  },
  {
   "cell_type": "code",
   "execution_count": 35,
   "metadata": {},
   "outputs": [
    {
     "data": {
      "text/plain": [
       "[(1, 1/2*y + 1/2), (2, 3/2*y + 2)]"
      ]
     },
     "execution_count": 35,
     "metadata": {},
     "output_type": "execute_result"
    }
   ],
   "source": [
    "gs = [(1, g), (2, g_r)]\n",
    "gs"
   ]
  },
  {
   "cell_type": "markdown",
   "metadata": {},
   "source": [
    "Saving the $g$'s in there so we can pass them directly to a future interpolation function. So we start (4) anew."
   ]
  },
  {
   "cell_type": "code",
   "execution_count": 36,
   "metadata": {},
   "outputs": [
    {
     "data": {
      "text/plain": [
       "3"
      ]
     },
     "execution_count": 36,
     "metadata": {},
     "output_type": "execute_result"
    }
   ],
   "source": [
    "variable_r.get_new_r(a_prime, b_prime, xs, xn)"
   ]
  },
  {
   "cell_type": "code",
   "execution_count": 37,
   "metadata": {},
   "outputs": [
    {
     "data": {
      "text/plain": [
       "5*y + 9"
      ]
     },
     "execution_count": 37,
     "metadata": {},
     "output_type": "execute_result"
    }
   ],
   "source": [
    "g_prime = a_prime.substitute({xs:variable_r.r}).gcd(b_prime.substitute({xs:variable_r.r}))\n",
    "g_prime"
   ]
  },
  {
   "cell_type": "code",
   "execution_count": 38,
   "metadata": {},
   "outputs": [
    {
     "data": {
      "text/plain": [
       "5"
      ]
     },
     "execution_count": 38,
     "metadata": {},
     "output_type": "execute_result"
    }
   ],
   "source": [
    "c = g_prime.polynomial(xn).lc()\n",
    "c"
   ]
  },
  {
   "cell_type": "code",
   "execution_count": 39,
   "metadata": {},
   "outputs": [
    {
     "data": {
      "text/plain": [
       "5/2*y + 9/2"
      ]
     },
     "execution_count": 39,
     "metadata": {},
     "output_type": "execute_result"
    }
   ],
   "source": [
    "g_r = (d.substitute({xs:variable_r.r}) * g_prime) / c\n",
    "g_r"
   ]
  },
  {
   "cell_type": "code",
   "execution_count": 40,
   "metadata": {},
   "outputs": [
    {
     "data": {
      "text/plain": [
       "False"
      ]
     },
     "execution_count": 40,
     "metadata": {},
     "output_type": "execute_result"
    }
   ],
   "source": [
    "g_r.degree(xn) < g.degree(xn)"
   ]
  },
  {
   "cell_type": "markdown",
   "metadata": {},
   "source": [
    "So again we don't have to go to step (3)."
   ]
  },
  {
   "cell_type": "code",
   "execution_count": 41,
   "metadata": {},
   "outputs": [
    {
     "data": {
      "text/plain": [
       "True"
      ]
     },
     "execution_count": 41,
     "metadata": {},
     "output_type": "execute_result"
    }
   ],
   "source": [
    "g_r.degree(xn) == g.degree(xn)"
   ]
  },
  {
   "cell_type": "code",
   "execution_count": 42,
   "metadata": {},
   "outputs": [
    {
     "data": {
      "text/plain": [
       "[(1, 1/2*y + 1/2), (2, 3/2*y + 2), (3, 5/2*y + 9/2)]"
      ]
     },
     "execution_count": 42,
     "metadata": {},
     "output_type": "execute_result"
    }
   ],
   "source": [
    "gs.append((variable_r.r, g_r))\n",
    "gs"
   ]
  },
  {
   "cell_type": "code",
   "execution_count": 43,
   "metadata": {},
   "outputs": [],
   "source": [
    "def interpolate(rpolys, I, var):\n",
    "    from sympy.polys.polyfuncs import interpolate\n",
    "    import sympy\n",
    "    \n",
    "    symb = sympy.Symbol(var.__repr__())\n",
    "    \n",
    "    rpolys_sympified = [(gr[0], sympy.sympify(gr[1].__repr__())) for gr in rpolys]\n",
    "    \n",
    "    result = interpolate(rpolys_sympified, symb)\n",
    "    \n",
    "    return I(result)"
   ]
  },
  {
   "cell_type": "code",
   "execution_count": 44,
   "metadata": {},
   "outputs": [
    {
     "data": {
      "text/plain": [
       "y*x - 1/2*y + 1/2*x^2"
      ]
     },
     "execution_count": 44,
     "metadata": {},
     "output_type": "execute_result"
    }
   ],
   "source": [
    "interim_result = interpolate(gs, I, xs)\n",
    "interim_result"
   ]
  },
  {
   "cell_type": "code",
   "execution_count": 49,
   "metadata": {},
   "outputs": [
    {
     "data": {
      "text/plain": [
       "((2*y^2*x + 2*x^3 - 6, 0), (2*y^2 - 2*y*x + 4, 0))"
      ]
     },
     "execution_count": 49,
     "metadata": {},
     "output_type": "execute_result"
    }
   ],
   "source": [
    "a.quo_rem(interim_result), b.quo_rem(interim_result)"
   ]
  },
  {
   "cell_type": "markdown",
   "metadata": {},
   "source": [
    "So this is the GCD. Actually, the algorithm would continue one more step until $m=M$."
   ]
  },
  {
   "cell_type": "markdown",
   "metadata": {},
   "source": [
    "## Step 5: Wrapping up or starting anew\n",
    "\n",
    "$$\n",
    "\\begin{align}\n",
    "(5) &  & & g:=f\\cdot\\text{pp}_{x_n}(g) \\\\\n",
    "&  &  & \\text{if }g\\in\\mathbb{Z}[x_1,\\dots,x_s][x_n]\\text{ and }g|a\\text{ and }g|b\\text{ then return }g \\\\\n",
    "& & & \\text{goto }(2) \\\\\n",
    "\\end{align}\n",
    "$$"
   ]
  },
  {
   "cell_type": "code",
   "execution_count": 52,
   "metadata": {},
   "outputs": [],
   "source": [
    "def pp(poly, var):\n",
    "    return poly / gcd(poly.polynomial(var).list())"
   ]
  },
  {
   "cell_type": "code",
   "execution_count": 53,
   "metadata": {},
   "outputs": [
    {
     "data": {
      "text/plain": [
       "y*x - 1/2*y + 1/2*x^2"
      ]
     },
     "execution_count": 53,
     "metadata": {},
     "output_type": "execute_result"
    }
   ],
   "source": [
    "pp(interim_result, xn)"
   ]
  },
  {
   "cell_type": "code",
   "execution_count": 55,
   "metadata": {},
   "outputs": [
    {
     "data": {
      "text/plain": [
       "y*x - 1/2*y + 1/2*x^2"
      ]
     },
     "execution_count": 55,
     "metadata": {},
     "output_type": "execute_result"
    }
   ],
   "source": [
    "g_final = f * pp(interim_result, xn)\n",
    "g_final"
   ]
  },
  {
   "cell_type": "code",
   "execution_count": 56,
   "metadata": {},
   "outputs": [
    {
     "data": {
      "text/plain": [
       "(True, True)"
      ]
     },
     "execution_count": 56,
     "metadata": {},
     "output_type": "execute_result"
    }
   ],
   "source": [
    "a.quo_rem(g_final)[1] == 0, b.quo_rem(g_final)[1] == 0"
   ]
  },
  {
   "cell_type": "markdown",
   "metadata": {},
   "source": [
    "This is the final result and terminates the algorithm. If it weren't, we'd have to go back to (2)."
   ]
  },
  {
   "cell_type": "code",
   "execution_count": null,
   "metadata": {},
   "outputs": [],
   "source": []
  }
 ],
 "metadata": {
  "kernelspec": {
   "display_name": "SageMath 8.9",
   "language": "sage",
   "name": "sagemath"
  },
  "language_info": {
   "codemirror_mode": {
    "name": "ipython",
    "version": 2
   },
   "file_extension": ".py",
   "mimetype": "text/x-python",
   "name": "python",
   "nbconvert_exporter": "python",
   "pygments_lexer": "ipython2",
   "version": "2.7.15"
  }
 },
 "nbformat": 4,
 "nbformat_minor": 2
}
