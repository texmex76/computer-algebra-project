{
 "cells": [
  {
   "cell_type": "markdown",
   "metadata": {},
   "source": [
    "# A modular GCD algorithm: Overview of algorithm\n",
    "\n",
    "The individual steps are the same as in K. Weber et al. / Journal of Algorithms 54 (2005) 152–167. Given are two integers $a, b \\in \\mathbb{Z}^*$. This notebook serves as an overview of the algorithm."
   ]
  },
  {
   "cell_type": "code",
   "execution_count": null,
   "metadata": {},
   "outputs": [],
   "source": [
    "a = 7 * 5 * 7 * 7 * 3\n",
    "b = 7 * 5 * 11 * 5\n",
    "a, b"
   ]
  },
  {
   "cell_type": "markdown",
   "metadata": {},
   "source": [
    "We write $U$ and $V$ for $a$ and $b$ with $U \\geq V$."
   ]
  },
  {
   "cell_type": "code",
   "execution_count": 2,
   "metadata": {},
   "outputs": [
    {
     "data": {
      "text/plain": [
       "(5145, 1925)"
      ]
     },
     "execution_count": 2,
     "metadata": {},
     "output_type": "execute_result"
    }
   ],
   "source": [
    "if a >= b:\n",
    "    U = a\n",
    "    V = b\n",
    "else:\n",
    "    U = b\n",
    "    V = a\n",
    "\n",
    "U, V"
   ]
  },
  {
   "cell_type": "markdown",
   "metadata": {},
   "source": [
    "## MGCD1: [Find suitable moduli]\n",
    "\n",
    "$$\n",
    "\\begin{align}\n",
    "1 \\quad & n = \\lfloor \\text{lg} U \\rfloor + 1 \\\\\n",
    "2 \\quad & w = \\text{ an integer satisfying }\\pi(2^w) - \\pi(2^{w-1}) \\leq \\text{max}\\lbrace \\lceil 2^{w/2}+n \\rceil, 9 \\rbrace \\\\\n",
    "3 \\quad & Q = \\text{ the set of }\\lceil 2^{w/2} + n \\rceil\\text{ largest primes less than }2 w\n",
    "\\end{align}\n",
    "$$"
   ]
  },
  {
   "cell_type": "code",
   "execution_count": 3,
   "metadata": {},
   "outputs": [
    {
     "data": {
      "text/plain": [
       "13"
      ]
     },
     "execution_count": 3,
     "metadata": {},
     "output_type": "execute_result"
    }
   ],
   "source": [
    "n = floor(log(U, 2)) + 1\n",
    "n"
   ]
  },
  {
   "cell_type": "code",
   "execution_count": 4,
   "metadata": {},
   "outputs": [],
   "source": [
    "def pi(x):\n",
    "    P = Primes()\n",
    "    i = 0\n",
    "    while P.unrank(i) <= x:\n",
    "        i += 1\n",
    "\n",
    "    return i"
   ]
  },
  {
   "cell_type": "code",
   "execution_count": 5,
   "metadata": {},
   "outputs": [
    {
     "data": {
      "text/plain": [
       "9"
      ]
     },
     "execution_count": 5,
     "metadata": {},
     "output_type": "execute_result"
    }
   ],
   "source": [
    "w = 1\n",
    "while pi(2^w) - pi(2^(w-1)) < max(ceil(2^(w/2) + n), 9):\n",
    "    w += 1\n",
    "\n",
    "w"
   ]
  },
  {
   "cell_type": "code",
   "execution_count": 6,
   "metadata": {},
   "outputs": [],
   "source": [
    "def getPrimes_mod(number, bound):\n",
    "    primes = set()\n",
    "    P = Primes()\n",
    "    i = 0\n",
    "    while P.unrank(i) < bound:\n",
    "        i += 1\n",
    "\n",
    "    while len(primes) < number:\n",
    "        assert(i > 0)\n",
    "        i -= 1\n",
    "        primes.add(P.unrank(i))\n",
    "\n",
    "    return primes"
   ]
  },
  {
   "cell_type": "code",
   "execution_count": 7,
   "metadata": {},
   "outputs": [
    {
     "data": {
      "text/plain": [
       "{293,\n",
       " 307,\n",
       " 311,\n",
       " 313,\n",
       " 317,\n",
       " 331,\n",
       " 337,\n",
       " 347,\n",
       " 349,\n",
       " 353,\n",
       " 359,\n",
       " 367,\n",
       " 373,\n",
       " 379,\n",
       " 383,\n",
       " 389,\n",
       " 397,\n",
       " 401,\n",
       " 409,\n",
       " 419,\n",
       " 421,\n",
       " 431,\n",
       " 433,\n",
       " 439,\n",
       " 443,\n",
       " 449,\n",
       " 457,\n",
       " 461,\n",
       " 463,\n",
       " 467,\n",
       " 479,\n",
       " 487,\n",
       " 491,\n",
       " 499,\n",
       " 503,\n",
       " 509}"
      ]
     },
     "execution_count": 7,
     "metadata": {},
     "output_type": "execute_result"
    }
   ],
   "source": [
    "Q = getPrimes_mod(ceil(2^(w/2) + n), 2^w)\n",
    "Q"
   ]
  },
  {
   "cell_type": "markdown",
   "metadata": {},
   "source": [
    "## MGCD2: [Convert to modular representation]\n",
    "\n",
    "$$\n",
    "\\begin{align}\n",
    "1 \\quad & \\text{For all }q ∈ \\mathcal{Q}\\text{ do }[u_q, v_q ] = [U\\text{ mod } q, V\\text{ mod }q]\n",
    "\\end{align}\n",
    "$$"
   ]
  },
  {
   "cell_type": "code",
   "execution_count": 8,
   "metadata": {},
   "outputs": [],
   "source": [
    "def mod(b, m):\n",
    "    y = b % m\n",
    "    if y > m / 2:\n",
    "        y -= m\n",
    "\n",
    "    return y"
   ]
  },
  {
   "cell_type": "code",
   "execution_count": 9,
   "metadata": {},
   "outputs": [
    {
     "data": {
      "text/plain": [
       "({293: -129,\n",
       "  307: -74,\n",
       "  311: -142,\n",
       "  313: 137,\n",
       "  317: 73,\n",
       "  331: -151,\n",
       "  337: 90,\n",
       "  347: -60,\n",
       "  349: -90,\n",
       "  353: -150,\n",
       "  359: 119,\n",
       "  367: 7,\n",
       "  373: -77,\n",
       "  379: -161,\n",
       "  383: 166,\n",
       "  389: 88,\n",
       "  397: -16,\n",
       "  401: -68,\n",
       "  409: -172,\n",
       "  419: 117,\n",
       "  421: 93,\n",
       "  431: -27,\n",
       "  433: -51,\n",
       "  439: -123,\n",
       "  443: -171,\n",
       "  449: 206,\n",
       "  457: 118,\n",
       "  461: 74,\n",
       "  463: 52,\n",
       "  467: 8,\n",
       "  479: -124,\n",
       "  487: -212,\n",
       "  491: 235,\n",
       "  499: 155,\n",
       "  503: 115,\n",
       "  509: 55},\n",
       " {293: -126,\n",
       "  307: 83,\n",
       "  311: 59,\n",
       "  313: 47,\n",
       "  317: 23,\n",
       "  331: -61,\n",
       "  337: -97,\n",
       "  347: -157,\n",
       "  349: -169,\n",
       "  353: 160,\n",
       "  359: 130,\n",
       "  367: 90,\n",
       "  373: 60,\n",
       "  379: 30,\n",
       "  383: 10,\n",
       "  389: -20,\n",
       "  397: -60,\n",
       "  401: -80,\n",
       "  409: -120,\n",
       "  419: -170,\n",
       "  421: -180,\n",
       "  431: 201,\n",
       "  433: 193,\n",
       "  439: 169,\n",
       "  443: 153,\n",
       "  449: 129,\n",
       "  457: 97,\n",
       "  461: 81,\n",
       "  463: 73,\n",
       "  467: 57,\n",
       "  479: 9,\n",
       "  487: -23,\n",
       "  491: -39,\n",
       "  499: -71,\n",
       "  503: -87,\n",
       "  509: -111})"
      ]
     },
     "execution_count": 9,
     "metadata": {},
     "output_type": "execute_result"
    }
   ],
   "source": [
    "u, v = {}, {}\n",
    "for q in Q:\n",
    "    u[q], v[q] = mod(U, q), mod(V, q)\n",
    "\n",
    "u, v"
   ]
  },
  {
   "cell_type": "markdown",
   "metadata": {},
   "source": [
    "## MGCD3: [Reduction loop]\n",
    "\n",
    "$$\n",
    "\\begin{align}\n",
    "1 \\quad & \\text{Repeat} \\\\\n",
    "2 \\quad & \\quad \\mathcal{P} = \\lbrace q ∈ \\mathcal{Q} | V\\text{ mod }q \\neq 0 \\rbrace \\\\\n",
    "3 \\quad & \\quad p =\\text{ an element of }\\mathcal{P}\\text{ for which }|u_p / v_p\\text{ mod }p|\\text{ is minimal.} \\\\\n",
    "4 \\quad & \\quad b = u_p / v_p\\text{ mod }p \\\\\n",
    "5 \\quad & \\quad Q = Q - \\lbrace p \\rbrace \\\\\n",
    "6 \\quad & \\quad \\text{For all }q ∈ \\mathcal{Q}\\text{ do }[u_q, v_q] = [v_q, (u_q - b v_q )/p\\text{ mod }q] \\\\\n",
    "7 \\quad & \\text{Until }∀q ∈ \\mathcal{Q}, v_q = 0\n",
    "\\end{align}\n",
    "$$"
   ]
  },
  {
   "cell_type": "code",
   "execution_count": 16,
   "metadata": {},
   "outputs": [
    {
     "data": {
      "text/plain": [
       "{293,\n",
       " 307,\n",
       " 311,\n",
       " 313,\n",
       " 317,\n",
       " 331,\n",
       " 337,\n",
       " 347,\n",
       " 349,\n",
       " 353,\n",
       " 359,\n",
       " 373,\n",
       " 379,\n",
       " 383,\n",
       " 389,\n",
       " 397,\n",
       " 401,\n",
       " 409,\n",
       " 419,\n",
       " 421,\n",
       " 431,\n",
       " 433,\n",
       " 439,\n",
       " 443,\n",
       " 449,\n",
       " 457,\n",
       " 461,\n",
       " 463,\n",
       " 467,\n",
       " 479,\n",
       " 487,\n",
       " 491,\n",
       " 499,\n",
       " 503,\n",
       " 509}"
      ]
     },
     "execution_count": 16,
     "metadata": {},
     "output_type": "execute_result"
    }
   ],
   "source": [
    "P = set()\n",
    "for q in Q:\n",
    "    if mod(V, q) != 0:\n",
    "        P.add(q)\n",
    "\n",
    "P"
   ]
  },
  {
   "cell_type": "code",
   "execution_count": 17,
   "metadata": {},
   "outputs": [],
   "source": [
    "def findPrime_mod(P, u, v):\n",
    "    minimum = None\n",
    "    current_p = None\n",
    "    for p in P:\n",
    "        if v[p] != 0:\n",
    "            m = abs(mod(u[p] / v[p], p))\n",
    "            if minimum == None or m < minimum:\n",
    "                minimum = m\n",
    "                current_p = p\n",
    "    \n",
    "    return current_p        "
   ]
  },
  {
   "cell_type": "code",
   "execution_count": 18,
   "metadata": {},
   "outputs": [
    {
     "data": {
      "text/plain": [
       "491"
      ]
     },
     "execution_count": 18,
     "metadata": {},
     "output_type": "execute_result"
    }
   ],
   "source": [
    "p = findPrime_mod(P, u, v)\n",
    "p"
   ]
  },
  {
   "cell_type": "code",
   "execution_count": 19,
   "metadata": {},
   "outputs": [
    {
     "data": {
      "text/plain": [
       "55"
      ]
     },
     "execution_count": 19,
     "metadata": {},
     "output_type": "execute_result"
    }
   ],
   "source": [
    "b = mod((u[p] / v[p]), p)\n",
    "b"
   ]
  },
  {
   "cell_type": "code",
   "execution_count": 20,
   "metadata": {},
   "outputs": [
    {
     "data": {
      "text/plain": [
       "{293,\n",
       " 307,\n",
       " 311,\n",
       " 313,\n",
       " 317,\n",
       " 331,\n",
       " 337,\n",
       " 347,\n",
       " 349,\n",
       " 353,\n",
       " 359,\n",
       " 373,\n",
       " 379,\n",
       " 383,\n",
       " 389,\n",
       " 397,\n",
       " 401,\n",
       " 409,\n",
       " 419,\n",
       " 421,\n",
       " 431,\n",
       " 433,\n",
       " 439,\n",
       " 443,\n",
       " 449,\n",
       " 457,\n",
       " 461,\n",
       " 463,\n",
       " 467,\n",
       " 479,\n",
       " 487,\n",
       " 499,\n",
       " 503,\n",
       " 509}"
      ]
     },
     "execution_count": 20,
     "metadata": {},
     "output_type": "execute_result"
    }
   ],
   "source": [
    "Q.remove(p)\n",
    "Q"
   ]
  },
  {
   "cell_type": "code",
   "execution_count": 21,
   "metadata": {},
   "outputs": [
    {
     "data": {
      "text/plain": [
       "({293: 35,\n",
       "  307: 35,\n",
       "  311: 35,\n",
       "  313: 35,\n",
       "  317: 35,\n",
       "  331: 35,\n",
       "  337: 35,\n",
       "  347: 35,\n",
       "  349: 35,\n",
       "  353: 35,\n",
       "  359: 35,\n",
       "  373: 35,\n",
       "  379: 35,\n",
       "  383: 35,\n",
       "  389: 35,\n",
       "  397: 35,\n",
       "  401: 35,\n",
       "  409: 35,\n",
       "  419: 35,\n",
       "  421: 35,\n",
       "  431: 35,\n",
       "  433: 35,\n",
       "  439: 35,\n",
       "  443: 35,\n",
       "  449: 35,\n",
       "  457: 35,\n",
       "  461: 35,\n",
       "  463: 35,\n",
       "  467: 35,\n",
       "  479: 35,\n",
       "  487: 35,\n",
       "  499: 35,\n",
       "  503: 35,\n",
       "  509: 35},\n",
       " {293: 0,\n",
       "  307: 0,\n",
       "  311: 0,\n",
       "  313: 0,\n",
       "  317: 0,\n",
       "  331: 0,\n",
       "  337: 0,\n",
       "  347: 0,\n",
       "  349: 0,\n",
       "  353: 0,\n",
       "  359: 0,\n",
       "  373: 0,\n",
       "  379: 0,\n",
       "  383: 0,\n",
       "  389: 0,\n",
       "  397: 0,\n",
       "  401: 0,\n",
       "  409: 0,\n",
       "  419: 0,\n",
       "  421: 0,\n",
       "  431: 0,\n",
       "  433: 0,\n",
       "  439: 0,\n",
       "  443: 0,\n",
       "  449: 0,\n",
       "  457: 0,\n",
       "  461: 0,\n",
       "  463: 0,\n",
       "  467: 0,\n",
       "  479: 0,\n",
       "  487: 0,\n",
       "  499: 0,\n",
       "  503: 0,\n",
       "  509: 0})"
      ]
     },
     "execution_count": 21,
     "metadata": {},
     "output_type": "execute_result"
    }
   ],
   "source": [
    "del u[p], v[p]\n",
    "for q in Q:\n",
    "    u[q], v[q] = v[q], mod((u[q] - b * v[q]) / p, q)\n",
    "\n",
    "u, v"
   ]
  },
  {
   "cell_type": "markdown",
   "metadata": {},
   "source": [
    "We have to repeat the reduction loop until $∀q ∈ \\mathcal{Q}, v_q = 0$."
   ]
  },
  {
   "cell_type": "markdown",
   "metadata": {},
   "source": [
    "## MGCD4: [Return standard representation]\n",
    "\n",
    "$$\n",
    "\\begin{align}\n",
    "1 \\quad & G = 0 \\\\\n",
    "2 \\quad & \\text{Repeat} \\\\\n",
    "3 \\quad & \\quad p =\\text{ an element of }\\mathcal{Q} \\\\\n",
    "4 \\quad & \\quad \\mathcal{Q} = \\mathcal{Q} - \\lbrace p\\rbrace \\\\\n",
    "5 \\quad & \\quad G = u_p + p G \\\\\n",
    "6 \\quad & \\quad \\text{For all }q ∈ \\mathcal{Q}\\text{ do }u_q = (u_q - u_p) / p\\text{ mod }q \\\\\n",
    "7 \\quad & \\text{Until }∀q ∈ \\mathcal{Q}, u_q = 0 \\\\\n",
    "8 \\quad & \\text{Return }|G|\n",
    "\\end{align}\n",
    "$$"
   ]
  },
  {
   "cell_type": "code",
   "execution_count": 22,
   "metadata": {},
   "outputs": [],
   "source": [
    "G = 0"
   ]
  },
  {
   "cell_type": "markdown",
   "metadata": {},
   "source": [
    "Now we begin the backconversion loop."
   ]
  },
  {
   "cell_type": "code",
   "execution_count": 23,
   "metadata": {},
   "outputs": [
    {
     "data": {
      "text/plain": [
       "311"
      ]
     },
     "execution_count": 23,
     "metadata": {},
     "output_type": "execute_result"
    }
   ],
   "source": [
    "p = Q.pop()\n",
    "p"
   ]
  },
  {
   "cell_type": "code",
   "execution_count": 24,
   "metadata": {},
   "outputs": [
    {
     "data": {
      "text/plain": [
       "{293,\n",
       " 307,\n",
       " 313,\n",
       " 317,\n",
       " 331,\n",
       " 337,\n",
       " 347,\n",
       " 349,\n",
       " 353,\n",
       " 359,\n",
       " 373,\n",
       " 379,\n",
       " 383,\n",
       " 389,\n",
       " 397,\n",
       " 401,\n",
       " 409,\n",
       " 419,\n",
       " 421,\n",
       " 431,\n",
       " 433,\n",
       " 439,\n",
       " 443,\n",
       " 449,\n",
       " 457,\n",
       " 461,\n",
       " 463,\n",
       " 467,\n",
       " 479,\n",
       " 487,\n",
       " 499,\n",
       " 503,\n",
       " 509}"
      ]
     },
     "execution_count": 24,
     "metadata": {},
     "output_type": "execute_result"
    }
   ],
   "source": [
    "Q"
   ]
  },
  {
   "cell_type": "code",
   "execution_count": 25,
   "metadata": {},
   "outputs": [
    {
     "data": {
      "text/plain": [
       "35"
      ]
     },
     "execution_count": 25,
     "metadata": {},
     "output_type": "execute_result"
    }
   ],
   "source": [
    "G = u[p] + p * G\n",
    "G"
   ]
  },
  {
   "cell_type": "code",
   "execution_count": 26,
   "metadata": {},
   "outputs": [
    {
     "data": {
      "text/plain": [
       "{293: 0,\n",
       " 307: 0,\n",
       " 313: 0,\n",
       " 317: 0,\n",
       " 331: 0,\n",
       " 337: 0,\n",
       " 347: 0,\n",
       " 349: 0,\n",
       " 353: 0,\n",
       " 359: 0,\n",
       " 373: 0,\n",
       " 379: 0,\n",
       " 383: 0,\n",
       " 389: 0,\n",
       " 397: 0,\n",
       " 401: 0,\n",
       " 409: 0,\n",
       " 419: 0,\n",
       " 421: 0,\n",
       " 431: 0,\n",
       " 433: 0,\n",
       " 439: 0,\n",
       " 443: 0,\n",
       " 449: 0,\n",
       " 457: 0,\n",
       " 461: 0,\n",
       " 463: 0,\n",
       " 467: 0,\n",
       " 479: 0,\n",
       " 487: 0,\n",
       " 499: 0,\n",
       " 503: 0,\n",
       " 509: 0}"
      ]
     },
     "execution_count": 26,
     "metadata": {},
     "output_type": "execute_result"
    }
   ],
   "source": [
    "for q in Q:\n",
    "    u[q] = mod((u[q] - u[p]) / p, q)\n",
    "\n",
    "del u[p]\n",
    "u"
   ]
  },
  {
   "cell_type": "markdown",
   "metadata": {},
   "source": [
    "We have to repeat the backconversion loop until $∀q ∈ \\mathcal{Q}, u_q = 0$."
   ]
  },
  {
   "cell_type": "code",
   "execution_count": 27,
   "metadata": {},
   "outputs": [
    {
     "data": {
      "text/plain": [
       "35"
      ]
     },
     "execution_count": 27,
     "metadata": {},
     "output_type": "execute_result"
    }
   ],
   "source": [
    "abs(G)"
   ]
  },
  {
   "cell_type": "markdown",
   "metadata": {},
   "source": [
    "This is the final result."
   ]
  },
  {
   "cell_type": "code",
   "execution_count": null,
   "metadata": {},
   "outputs": [],
   "source": []
  }
 ],
 "metadata": {
  "kernelspec": {
   "display_name": "SageMath 8.6",
   "language": "",
   "name": "sagemath"
  },
  "language_info": {
   "codemirror_mode": {
    "name": "ipython",
    "version": 2
   },
   "file_extension": ".py",
   "mimetype": "text/x-python",
   "name": "python",
   "nbconvert_exporter": "python",
   "pygments_lexer": "ipython2",
   "version": "2.7.16"
  }
 },
 "nbformat": 4,
 "nbformat_minor": 2
}
