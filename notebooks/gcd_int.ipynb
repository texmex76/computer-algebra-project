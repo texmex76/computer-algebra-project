{
 "cells": [
  {
   "cell_type": "markdown",
   "metadata": {},
   "source": [
    "# A modular GCD algorithm: Overview of algorithm\n",
    "\n",
    "The individual steps are the same as in K. Weber et al. / Journal of Algorithms 54 (2005) 152–167. Given are two integers $a, b \\in \\mathbb{Z}^*$. This notebook serves as an overview of the algorithm."
   ]
  },
  {
   "cell_type": "code",
   "execution_count": 1,
   "metadata": {},
   "outputs": [
    {
     "data": {
      "text/plain": [
       "(5145, 1925)"
      ]
     },
     "execution_count": 1,
     "metadata": {},
     "output_type": "execute_result"
    }
   ],
   "source": [
    "a = 7 * 5 * 7 * 7 * 3\n",
    "b = 7 * 5 * 11 * 5\n",
    "a, b"
   ]
  },
  {
   "cell_type": "markdown",
   "metadata": {},
   "source": [
    "We write $U$ and $V$ for $a$ and $b$ with $U \\geq V$."
   ]
  },
  {
   "cell_type": "code",
   "execution_count": 2,
   "metadata": {},
   "outputs": [
    {
     "data": {
      "text/plain": [
       "(5145, 1925)"
      ]
     },
     "execution_count": 2,
     "metadata": {},
     "output_type": "execute_result"
    }
   ],
   "source": [
    "if a >= b:\n",
    "    U, V = a, b\n",
    "else:\n",
    "    U, V = b, a\n",
    "\n",
    "U, V"
   ]
  },
  {
   "cell_type": "markdown",
   "metadata": {},
   "source": [
    "$$\n",
    "\\begin{align}\n",
    "1 \\quad & n = \\lfloor \\text{lg} U \\rfloor + 1 \\\\\n",
    "2 \\quad & Q = \\text{ a set of at least }n + 2\\text{ primes with }\\pi(\\text{min}\\mathcal{Q}) > \\text{ max}\\lbrace n, 9 \\rbrace \\\\\n",
    "3 \\quad & \\text{Repeat} \\\\\n",
    "4 \\quad & \\quad \\mathcal{P} = \\lbrace q ∈ \\mathcal{Q} | V\\text{ mod }q \\neq 0 \\rbrace \\\\\n",
    "5 \\quad & \\quad p =\\text{ an element of }\\mathcal{P}\\text{ for which }|U/V\\text{ mod }p|\\text{ is minimal} \\\\\n",
    "6 \\quad & \\quad b = U/V\\text{ mod }p \\\\\n",
    "7 \\quad & \\quad \\mathcal{Q} = \\mathcal{Q} - \\lbrace p \\rbrace \\\\\n",
    "8 \\quad & \\quad [U, V ] = [V , (U - bV )/p]\\\\\n",
    "9 \\quad & \\text{Until }V = 0 \\\\\n",
    "10 \\quad & \\text{Return } |U|\n",
    "\\end{align}\n",
    "$$"
   ]
  },
  {
   "cell_type": "code",
   "execution_count": 3,
   "metadata": {},
   "outputs": [
    {
     "data": {
      "text/plain": [
       "13"
      ]
     },
     "execution_count": 3,
     "metadata": {},
     "output_type": "execute_result"
    }
   ],
   "source": [
    "n = floor(log(U, 2)) + 1\n",
    "n"
   ]
  },
  {
   "cell_type": "code",
   "execution_count": 4,
   "metadata": {},
   "outputs": [],
   "source": [
    "def getPrimes(n):\n",
    "    primes = set()\n",
    "    P = Primes()\n",
    "    i = max(n, 9)\n",
    "    while len(primes) < n + 2:\n",
    "        i += 1\n",
    "        primes.add(P.unrank(i))\n",
    "\n",
    "    return primes"
   ]
  },
  {
   "cell_type": "code",
   "execution_count": 5,
   "metadata": {},
   "outputs": [
    {
     "data": {
      "text/plain": [
       "{47, 53, 59, 61, 67, 71, 73, 79, 83, 89, 97, 101, 103, 107, 109}"
      ]
     },
     "execution_count": 5,
     "metadata": {},
     "output_type": "execute_result"
    }
   ],
   "source": [
    "Q = getPrimes(n)\n",
    "Q"
   ]
  },
  {
   "cell_type": "code",
   "execution_count": 6,
   "metadata": {},
   "outputs": [],
   "source": [
    "def mod(b, m):\n",
    "    y = b % m\n",
    "    if y > m / 2:\n",
    "        y -= m\n",
    "\n",
    "    return y"
   ]
  },
  {
   "cell_type": "markdown",
   "metadata": {},
   "source": [
    "Now we begin the reduction loop."
   ]
  },
  {
   "cell_type": "code",
   "execution_count": 19,
   "metadata": {},
   "outputs": [
    {
     "data": {
      "text/plain": [
       "{47, 59, 61, 67, 71, 73, 79, 83, 89, 97, 103, 107, 109}"
      ]
     },
     "execution_count": 19,
     "metadata": {},
     "output_type": "execute_result"
    }
   ],
   "source": [
    "P = set()\n",
    "for q in Q:\n",
    "    if mod(V, q) != 0:\n",
    "        P.add(q)\n",
    "\n",
    "P"
   ]
  },
  {
   "cell_type": "code",
   "execution_count": 20,
   "metadata": {},
   "outputs": [],
   "source": [
    "def findPrime(P, U, V):\n",
    "    minimum = None\n",
    "    cur_p = None\n",
    "    for p in P:\n",
    "        m = abs(mod(U / V, p))\n",
    "        if minimum == None or m < minimum:\n",
    "            minimum = m\n",
    "            cur_p = p\n",
    "    \n",
    "    return cur_p"
   ]
  },
  {
   "cell_type": "code",
   "execution_count": 21,
   "metadata": {},
   "outputs": [
    {
     "data": {
      "text/plain": [
       "97"
      ]
     },
     "execution_count": 21,
     "metadata": {},
     "output_type": "execute_result"
    }
   ],
   "source": [
    "p = findPrime(P, U, V)\n",
    "p"
   ]
  },
  {
   "cell_type": "code",
   "execution_count": 22,
   "metadata": {},
   "outputs": [
    {
     "data": {
      "text/plain": [
       "2"
      ]
     },
     "execution_count": 22,
     "metadata": {},
     "output_type": "execute_result"
    }
   ],
   "source": [
    "b = mod(U / V, p)\n",
    "b"
   ]
  },
  {
   "cell_type": "code",
   "execution_count": 23,
   "metadata": {},
   "outputs": [
    {
     "data": {
      "text/plain": [
       "{47, 59, 61, 67, 71, 73, 79, 83, 89, 103, 107, 109}"
      ]
     },
     "execution_count": 23,
     "metadata": {},
     "output_type": "execute_result"
    }
   ],
   "source": [
    "Q.remove(p)\n",
    "Q"
   ]
  },
  {
   "cell_type": "code",
   "execution_count": 24,
   "metadata": {},
   "outputs": [
    {
     "data": {
      "text/plain": [
       "(35, 0)"
      ]
     },
     "execution_count": 24,
     "metadata": {},
     "output_type": "execute_result"
    }
   ],
   "source": [
    "U, V = V, (U - b * V) / p\n",
    "U, V"
   ]
  },
  {
   "cell_type": "markdown",
   "metadata": {},
   "source": [
    "We have to repeat the reduction loop from step 4 until $V = 0$."
   ]
  },
  {
   "cell_type": "code",
   "execution_count": 25,
   "metadata": {},
   "outputs": [
    {
     "data": {
      "text/plain": [
       "35"
      ]
     },
     "execution_count": 25,
     "metadata": {},
     "output_type": "execute_result"
    }
   ],
   "source": [
    "abs(U)"
   ]
  },
  {
   "cell_type": "markdown",
   "metadata": {},
   "source": [
    "This is the final result."
   ]
  },
  {
   "cell_type": "code",
   "execution_count": null,
   "metadata": {},
   "outputs": [],
   "source": []
  }
 ],
 "metadata": {
  "kernelspec": {
   "display_name": "SageMath 8.6",
   "language": "",
   "name": "sagemath"
  },
  "language_info": {
   "codemirror_mode": {
    "name": "ipython",
    "version": 2
   },
   "file_extension": ".py",
   "mimetype": "text/x-python",
   "name": "python",
   "nbconvert_exporter": "python",
   "pygments_lexer": "ipython2",
   "version": "2.7.16"
  }
 },
 "nbformat": 4,
 "nbformat_minor": 2
}
