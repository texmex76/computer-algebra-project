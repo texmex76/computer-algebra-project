{
 "cells": [
  {
   "cell_type": "markdown",
   "metadata": {},
   "source": [
    "# A modular GCD algorithm: Overview of algorithm\n",
    "\n",
    "The individual steps are the same as in K. Weber et al. / Journal of Algorithms 54 (2005) 152–167. Given are two integers $a, b \\in \\mathbb{Z}^*$. This notebook serves as an overview of the algorithm."
   ]
  },
  {
   "cell_type": "code",
   "execution_count": 1,
   "metadata": {},
   "outputs": [
    {
     "data": {
      "text/plain": [
       "(2001, 1265)"
      ]
     },
     "execution_count": 1,
     "metadata": {},
     "output_type": "execute_result"
    }
   ],
   "source": [
    "a = 23 * 87\n",
    "b = 23 * 55\n",
    "a, b"
   ]
  },
  {
   "cell_type": "code",
   "execution_count": 2,
   "metadata": {},
   "outputs": [],
   "source": [
    "if a >= b:\n",
    "    U = a\n",
    "    V = b\n",
    "else:\n",
    "    U = b\n",
    "    V = a"
   ]
  },
  {
   "cell_type": "markdown",
   "metadata": {},
   "source": [
    "$$\n",
    "\\begin{align}\n",
    "1 \\quad & n = \\lfloor \\text{lg} U \\rfloor + 1 \\\\\n",
    "2 \\quad & Q = \\text{ a set of at least }n + 2\\text{ primes with }\\pi(\\text{min}\\mathcal{Q}) > \\text{ max}\\lbrace n, 9 \\rbrace \\\\\n",
    "3 \\qquad & \\text{Repeat} \\\\\n",
    "4 \\qquad & \\quad \\\\\n",
    "5 \\qquad & \\quad \\\\\n",
    "6 \\qquad & \\quad \\\\\n",
    "7 \\qquad & \\quad \\\\\n",
    "8 \\qquad & \\quad \\\\\n",
    "9 \\qquad & \\text{Until }V = 0 \\\\\n",
    "10 \\quad & \\text{Return } |U|\n",
    "\\end{align}\n",
    "$$"
   ]
  },
  {
   "cell_type": "code",
   "execution_count": 3,
   "metadata": {},
   "outputs": [
    {
     "data": {
      "text/plain": [
       "11"
      ]
     },
     "execution_count": 3,
     "metadata": {},
     "output_type": "execute_result"
    }
   ],
   "source": [
    "n = floor(log(U, 2)) + 1\n",
    "n"
   ]
  },
  {
   "cell_type": "code",
   "execution_count": 4,
   "metadata": {},
   "outputs": [],
   "source": [
    "def getPrimes(n):\n",
    "    primes = set()\n",
    "    P = Primes()\n",
    "    i = max(n, 9)\n",
    "    while len(primes) < n + 2:\n",
    "        i += 1\n",
    "        primes.add(P.unrank(i))\n",
    "\n",
    "    return primes"
   ]
  },
  {
   "cell_type": "code",
   "execution_count": 5,
   "metadata": {},
   "outputs": [
    {
     "data": {
      "text/plain": [
       "{41, 43, 47, 53, 59, 61, 67, 71, 73, 79, 83, 89, 97}"
      ]
     },
     "execution_count": 5,
     "metadata": {},
     "output_type": "execute_result"
    }
   ],
   "source": [
    "Q = getPrimes(n)\n",
    "Q"
   ]
  },
  {
   "cell_type": "code",
   "execution_count": 18,
   "metadata": {},
   "outputs": [
    {
     "data": {
      "text/plain": [
       "{41, 43, 53, 61, 67, 71, 73, 79, 83, 89, 97}"
      ]
     },
     "execution_count": 18,
     "metadata": {},
     "output_type": "execute_result"
    }
   ],
   "source": [
    "P = set()\n",
    "for q in Q:\n",
    "    if V % q != 0:\n",
    "        P.add(q)\n",
    "\n",
    "P"
   ]
  },
  {
   "cell_type": "code",
   "execution_count": 19,
   "metadata": {},
   "outputs": [],
   "source": [
    "def findPrime(P):\n",
    "    minimum = None\n",
    "    current_p = None\n",
    "    for p_ in P:\n",
    "        abs_module = abs(U / V % p_)\n",
    "        if minimum == None or abs_module < minimum:\n",
    "            minimum = abs_module\n",
    "            current_p = p_\n",
    "    \n",
    "    return current_p"
   ]
  },
  {
   "cell_type": "code",
   "execution_count": 20,
   "metadata": {},
   "outputs": [
    {
     "data": {
      "text/plain": [
       "41"
      ]
     },
     "execution_count": 20,
     "metadata": {},
     "output_type": "execute_result"
    }
   ],
   "source": [
    "p = findPrime(P)\n",
    "p"
   ]
  },
  {
   "cell_type": "code",
   "execution_count": 21,
   "metadata": {},
   "outputs": [
    {
     "data": {
      "text/plain": [
       "-4"
      ]
     },
     "execution_count": 21,
     "metadata": {},
     "output_type": "execute_result"
    }
   ],
   "source": [
    "b = U / V % p\n",
    "if b > p / 2:\n",
    "    b -= p\n",
    "\n",
    "b"
   ]
  },
  {
   "cell_type": "code",
   "execution_count": 22,
   "metadata": {},
   "outputs": [
    {
     "data": {
      "text/plain": [
       "{43, 53, 61, 67, 71, 73, 79, 83, 89, 97}"
      ]
     },
     "execution_count": 22,
     "metadata": {},
     "output_type": "execute_result"
    }
   ],
   "source": [
    "Q.remove(p)\n",
    "Q"
   ]
  },
  {
   "cell_type": "code",
   "execution_count": 23,
   "metadata": {},
   "outputs": [
    {
     "data": {
      "text/plain": [
       "(23, 0)"
      ]
     },
     "execution_count": 23,
     "metadata": {},
     "output_type": "execute_result"
    }
   ],
   "source": [
    "U, V = V, (U - b * V) / p\n",
    "U, V"
   ]
  },
  {
   "cell_type": "code",
   "execution_count": 24,
   "metadata": {},
   "outputs": [
    {
     "data": {
      "text/plain": [
       "23"
      ]
     },
     "execution_count": 24,
     "metadata": {},
     "output_type": "execute_result"
    }
   ],
   "source": [
    "abs(U)"
   ]
  },
  {
   "cell_type": "code",
   "execution_count": null,
   "metadata": {},
   "outputs": [],
   "source": []
  }
 ],
 "metadata": {
  "kernelspec": {
   "display_name": "SageMath 8.6",
   "language": "",
   "name": "sagemath"
  },
  "language_info": {
   "codemirror_mode": {
    "name": "ipython",
    "version": 2
   },
   "file_extension": ".py",
   "mimetype": "text/x-python",
   "name": "python",
   "nbconvert_exporter": "python",
   "pygments_lexer": "ipython2",
   "version": "2.7.16"
  }
 },
 "nbformat": 4,
 "nbformat_minor": 2
}
