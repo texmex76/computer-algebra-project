{
 "cells": [
  {
   "cell_type": "markdown",
   "metadata": {},
   "source": [
    "# A modular GCD algorithm: Overview of algorithm\n",
    "\n",
    "The individual steps are the same as in K. Weber et al. / Journal of Algorithms 54 (2005) 152–167. Given are two integers $a, b \\in \\mathbb{Z}^*$. This notebook serves as an overview of the algorithm."
   ]
  },
  {
   "cell_type": "markdown",
   "metadata": {},
   "source": [
    "First we define some common functions needed by the algorithm."
   ]
  },
  {
   "cell_type": "code",
   "execution_count": 1,
   "metadata": {},
   "outputs": [],
   "source": [
    "def mod(b, m):\n",
    "    \"\"\"\n",
    "    Returns the symmetrical modular representation of b mod n\n",
    "    \n",
    "    Parameters\n",
    "    ----------\n",
    "    b: integer\n",
    "        An integer.\n",
    "    m: integer\n",
    "        The modulus.\n",
    "        \n",
    "    Returns\n",
    "    -------\n",
    "    y: integer\n",
    "        Symmetrical modular representation b mod n.\n",
    "    \"\"\"\n",
    "    y = b % m\n",
    "    if y > m / 2:\n",
    "        y -= m\n",
    "\n",
    "    return y"
   ]
  },
  {
   "cell_type": "code",
   "execution_count": 2,
   "metadata": {},
   "outputs": [],
   "source": [
    "def pi(x):\n",
    "    \"\"\"\n",
    "    Calculates the number of primes less than or equal to the given real number\n",
    "    \n",
    "    Parameters\n",
    "    ----------\n",
    "    x: real\n",
    "        A real number.\n",
    "        \n",
    "    Returns\n",
    "    -------\n",
    "    pi: integer\n",
    "        Number of primes.\n",
    "    \"\"\"\n",
    "    P = Primes()\n",
    "    i = 0\n",
    "    while P.unrank(i) <= x:\n",
    "        i += 1\n",
    "\n",
    "    return i"
   ]
  },
  {
   "cell_type": "code",
   "execution_count": 3,
   "metadata": {},
   "outputs": [],
   "source": [
    "def getPrimes(n):\n",
    "    primes = set()\n",
    "    P = Primes()\n",
    "    i = max(n, 9)\n",
    "    while len(primes) < n + 2:\n",
    "        i += 1\n",
    "        primes.add(P.unrank(i))\n",
    "\n",
    "    return primes"
   ]
  },
  {
   "cell_type": "code",
   "execution_count": 4,
   "metadata": {},
   "outputs": [],
   "source": [
    "def findPrime(P, U, V):\n",
    "    minimum = None\n",
    "    cur_p = None\n",
    "    for p in P:\n",
    "        m = abs(mod(U / V, p))\n",
    "        if minimum == None or m < minimum:\n",
    "            minimum = m\n",
    "            cur_p = p\n",
    "    \n",
    "    return cur_p"
   ]
  },
  {
   "cell_type": "code",
   "execution_count": 5,
   "metadata": {},
   "outputs": [],
   "source": [
    "def getPrimes_mod(number, bound):\n",
    "    primes = set()\n",
    "    P = Primes()\n",
    "    i = 0\n",
    "    while P.unrank(i) < bound:\n",
    "        i += 1\n",
    "\n",
    "    while len(primes) < number:\n",
    "        assert(i > 0)\n",
    "        i -= 1\n",
    "        primes.add(P.unrank(i))\n",
    "\n",
    "    return primes"
   ]
  },
  {
   "cell_type": "code",
   "execution_count": 6,
   "metadata": {},
   "outputs": [],
   "source": [
    "def findPrime_mod(P, u, v):\n",
    "    minimum = None\n",
    "    current_p = None\n",
    "    for p in P:\n",
    "        if v[p] != 0:\n",
    "            m = abs(mod(u[p] / v[p], p))\n",
    "            if minimum == None or m < minimum:\n",
    "                minimum = m\n",
    "                current_p = p\n",
    "\n",
    "    return current_p    "
   ]
  },
  {
   "cell_type": "markdown",
   "metadata": {},
   "source": [
    "Now we implement the algorithm."
   ]
  },
  {
   "cell_type": "code",
   "execution_count": 7,
   "metadata": {},
   "outputs": [],
   "source": [
    "def gcd_int(a, b):\n",
    "    if a >= b:\n",
    "        U, V = a, b\n",
    "    else:\n",
    "        U, V = b, a\n",
    "\n",
    "    n = floor(log(U, 2)) + 1\n",
    "    Q = getPrimes(n)\n",
    "    while V != 0:\n",
    "        P = set()\n",
    "        for q in Q:\n",
    "            if mod(V, q) != 0:\n",
    "                P.add(q)\n",
    "\n",
    "        p = findPrime(P, U, V)\n",
    "        b = mod(U / V, p)\n",
    "        Q.remove(p)\n",
    "        U, V = V, (U - b * V) / p\n",
    "    \n",
    "    return abs(U)"
   ]
  },
  {
   "cell_type": "code",
   "execution_count": 8,
   "metadata": {},
   "outputs": [],
   "source": [
    "def gcd_int_mod(a, b):\n",
    "    if a >= b:\n",
    "        U, V = a, b\n",
    "    else:\n",
    "        U, V = b, a\n",
    "\n",
    "    n = floor(log(U, 2)) + 1\n",
    "    w = 1\n",
    "    while pi(2^w) - pi(2^(w-1)) < max(ceil(2^(w/2) + n), 9):\n",
    "        w += 1\n",
    "    \n",
    "    Q = getPrimes_mod(ceil(2^(w/2) + n), 2^w)\n",
    "    u, v = {}, {}\n",
    "    for q in Q:\n",
    "        u[q], v[q] = mod(U, q), mod(V, q)\n",
    "\n",
    "    while any(x != 0 for x in v.values()):\n",
    "        P = set()\n",
    "        for q in Q:\n",
    "            if mod(V, q) != 0:\n",
    "                P.add(q)\n",
    "\n",
    "        p = findPrime_mod(P, u, v)\n",
    "        b = mod(u[p] / v[p], p)\n",
    "        Q.remove(p)\n",
    "        del u[p], v[p]\n",
    "        for q in Q:\n",
    "            u[q], v[q] = v[q], mod((u[q] - b * v[q]) / p, q)    \n",
    "\n",
    "    G = 0\n",
    "    while any(x != 0 for x in u.values()):\n",
    "        p = Q.pop()\n",
    "        G = u[p] + p * G\n",
    "        for q in Q:\n",
    "            u[q] = mod((u[q] - u[p]) / p, q)\n",
    "\n",
    "        del u[p]\n",
    "\n",
    "    return abs(G)"
   ]
  },
  {
   "cell_type": "markdown",
   "metadata": {},
   "source": [
    "Next we test our algorithm on simple inputs."
   ]
  },
  {
   "cell_type": "code",
   "execution_count": 9,
   "metadata": {},
   "outputs": [
    {
     "data": {
      "text/plain": [
       "35"
      ]
     },
     "execution_count": 9,
     "metadata": {},
     "output_type": "execute_result"
    }
   ],
   "source": [
    "gcd_int(7 * 5 * 7 * 7 * 3, 7 * 5 * 11 * 5)"
   ]
  },
  {
   "cell_type": "code",
   "execution_count": 10,
   "metadata": {},
   "outputs": [
    {
     "data": {
      "text/plain": [
       "35"
      ]
     },
     "execution_count": 10,
     "metadata": {},
     "output_type": "execute_result"
    }
   ],
   "source": [
    "gcd_int_mod(7 * 5 * 7 * 7 * 3, 7 * 5 * 11 * 5)"
   ]
  },
  {
   "cell_type": "markdown",
   "metadata": {},
   "source": [
    "Finally, we do some performance tests."
   ]
  },
  {
   "cell_type": "code",
   "execution_count": 11,
   "metadata": {},
   "outputs": [
    {
     "data": {
      "text/plain": [
       "(9880780050186010890025694604830,\n",
       " 2635882834780815441564690163986,\n",
       " 823933359964162)"
      ]
     },
     "execution_count": 11,
     "metadata": {},
     "output_type": "execute_result"
    }
   ],
   "source": [
    "primes = set()\n",
    "P = Primes()\n",
    "gcd = 1\n",
    "a = 1\n",
    "b = 1\n",
    "for i in range(10):\n",
    "    gcd *= P.unrank(3 * i)\n",
    "    a *= P.unrank(3 * i) * P.unrank(3 * i + 2)\n",
    "    b *= P.unrank(3 * i) * P.unrank(3 * i + 1)\n",
    "\n",
    "a, b, gcd"
   ]
  },
  {
   "cell_type": "code",
   "execution_count": 12,
   "metadata": {},
   "outputs": [
    {
     "name": "stdout",
     "output_type": "stream",
     "text": [
      "25 loops, best of 3: 7.41 ms per loop\n"
     ]
    }
   ],
   "source": [
    "timeit('gcd_int(a, b)')"
   ]
  },
  {
   "cell_type": "code",
   "execution_count": 13,
   "metadata": {},
   "outputs": [
    {
     "name": "stdout",
     "output_type": "stream",
     "text": [
      "25 loops, best of 3: 23 ms per loop\n"
     ]
    }
   ],
   "source": [
    "timeit('gcd_int_mod(a, b)')"
   ]
  },
  {
   "cell_type": "code",
   "execution_count": 14,
   "metadata": {},
   "outputs": [
    {
     "data": {
      "text/plain": [
       "(82626625558625627730759447900079022979274827931105265526486455811982536517730,\n",
       " 16925012608976683449324301595715196440813756060848718135204360679607848186842,\n",
       " 56737341167208236095244871079519396574)"
      ]
     },
     "execution_count": 14,
     "metadata": {},
     "output_type": "execute_result"
    }
   ],
   "source": [
    "primes = set()\n",
    "P = Primes()\n",
    "gcd = 1\n",
    "a = 1\n",
    "b = 1\n",
    "for i in range(20):\n",
    "    gcd *= P.unrank(3 * i)\n",
    "    a *= P.unrank(3 * i) * P.unrank(3 * i + 2)\n",
    "    b *= P.unrank(3 * i) * P.unrank(3 * i + 1)\n",
    "\n",
    "a, b, gcd"
   ]
  },
  {
   "cell_type": "code",
   "execution_count": 15,
   "metadata": {},
   "outputs": [
    {
     "name": "stdout",
     "output_type": "stream",
     "text": [
      "5 loops, best of 3: 38.4 ms per loop\n"
     ]
    }
   ],
   "source": [
    "timeit('gcd_int(a, b)')"
   ]
  },
  {
   "cell_type": "code",
   "execution_count": 16,
   "metadata": {},
   "outputs": [
    {
     "name": "stdout",
     "output_type": "stream",
     "text": [
      "5 loops, best of 3: 80.1 ms per loop\n"
     ]
    }
   ],
   "source": [
    "timeit('gcd_int_mod(a, b)')"
   ]
  },
  {
   "cell_type": "code",
   "execution_count": 17,
   "metadata": {},
   "outputs": [
    {
     "data": {
      "text/plain": [
       "(275152091347708314322123019694904565349090602738899342945202685777899688617140539448385575422596343005949322166003990839148045570,\n",
       " 46685444725578461804432420389858456875198277594387276894896823729034502064585888014615051084164240555218197063899696338464942162,\n",
       " 2746257476362523256304808229874501818962789070919585094846865214)"
      ]
     },
     "execution_count": 17,
     "metadata": {},
     "output_type": "execute_result"
    }
   ],
   "source": [
    "primes = set()\n",
    "P = Primes()\n",
    "gcd = 1\n",
    "a = 1\n",
    "b = 1\n",
    "for i in range(30):\n",
    "    gcd *= P.unrank(3 * i)\n",
    "    a *= P.unrank(3 * i) * P.unrank(3 * i + 2)\n",
    "    b *= P.unrank(3 * i) * P.unrank(3 * i + 1)\n",
    "\n",
    "a, b, gcd"
   ]
  },
  {
   "cell_type": "code",
   "execution_count": 18,
   "metadata": {},
   "outputs": [
    {
     "name": "stdout",
     "output_type": "stream",
     "text": [
      "5 loops, best of 3: 102 ms per loop\n"
     ]
    }
   ],
   "source": [
    "timeit('gcd_int(a, b)')"
   ]
  },
  {
   "cell_type": "code",
   "execution_count": 19,
   "metadata": {},
   "outputs": [
    {
     "name": "stdout",
     "output_type": "stream",
     "text": [
      "5 loops, best of 3: 177 ms per loop\n"
     ]
    }
   ],
   "source": [
    "timeit('gcd_int_mod(a, b)')"
   ]
  },
  {
   "cell_type": "code",
   "execution_count": 20,
   "metadata": {},
   "outputs": [
    {
     "data": {
      "text/plain": [
       "(3254705835588826997528311319289447239132046896188630394909061658486827365176675594155769214495835743555790944020564693271158958436647641762316283072333105646063501197433729154730773570,\n",
       " 506923457521246805146359304836956000135243260444180868876073003820256635749451520905220680425309568747329037025468382599270606788979334720220371914032114853474025531611110100336368674,\n",
       " 8444225397680941067388873318475548909073865271553777534715768151857719836648976324934795518)"
      ]
     },
     "execution_count": 20,
     "metadata": {},
     "output_type": "execute_result"
    }
   ],
   "source": [
    "primes = set()\n",
    "P = Primes()\n",
    "gcd = 1\n",
    "a = 1\n",
    "b = 1\n",
    "for i in range(40):\n",
    "    gcd *= P.unrank(3 * i)\n",
    "    a *= P.unrank(3 * i) * P.unrank(3 * i + 2)\n",
    "    b *= P.unrank(3 * i) * P.unrank(3 * i + 1)\n",
    "\n",
    "a, b, gcd"
   ]
  },
  {
   "cell_type": "code",
   "execution_count": 21,
   "metadata": {},
   "outputs": [
    {
     "name": "stdout",
     "output_type": "stream",
     "text": [
      "5 loops, best of 3: 204 ms per loop\n"
     ]
    }
   ],
   "source": [
    "timeit('gcd_int(a, b)')"
   ]
  },
  {
   "cell_type": "code",
   "execution_count": 22,
   "metadata": {},
   "outputs": [
    {
     "name": "stdout",
     "output_type": "stream",
     "text": [
      "5 loops, best of 3: 309 ms per loop\n"
     ]
    }
   ],
   "source": [
    "timeit('gcd_int_mod(a, b)')"
   ]
  },
  {
   "cell_type": "code",
   "execution_count": 23,
   "metadata": {},
   "outputs": [
    {
     "data": {
      "text/plain": [
       "(15540418655783810254423083536796084817197907761730532454791887953358102298034750820114452881224195852385671811698327552913955704962733620200026803774138407575803855013371835262857735909943329591570095099011597054710900523571563968508411178010,\n",
       " 2215456179871689897461058391695909798308856060579319604339917984386864912630802955495726482297772385581494949353103043986673256033640752796565321657571719402607268852642990196562321575641196913204152035761545013763182008235785025077004689426,\n",
       " 531906500583557763724707245897905700136086668109311653300767823625429556271590635349581327884550536509787804860213404582)"
      ]
     },
     "execution_count": 23,
     "metadata": {},
     "output_type": "execute_result"
    }
   ],
   "source": [
    "primes = set()\n",
    "P = Primes()\n",
    "gcd = 1\n",
    "a = 1\n",
    "b = 1\n",
    "for i in range(50):\n",
    "    gcd *= P.unrank(3 * i)\n",
    "    a *= P.unrank(3 * i) * P.unrank(3 * i + 2)\n",
    "    b *= P.unrank(3 * i) * P.unrank(3 * i + 1)\n",
    "\n",
    "a, b, gcd"
   ]
  },
  {
   "cell_type": "code",
   "execution_count": 24,
   "metadata": {},
   "outputs": [
    {
     "name": "stdout",
     "output_type": "stream",
     "text": [
      "5 loops, best of 3: 361 ms per loop\n"
     ]
    }
   ],
   "source": [
    "timeit('gcd_int(a, b)')"
   ]
  },
  {
   "cell_type": "code",
   "execution_count": 25,
   "metadata": {},
   "outputs": [
    {
     "name": "stdout",
     "output_type": "stream",
     "text": [
      "5 loops, best of 3: 504 ms per loop\n"
     ]
    }
   ],
   "source": [
    "timeit('gcd_int_mod(a, b)')"
   ]
  },
  {
   "cell_type": "code",
   "execution_count": 26,
   "metadata": {},
   "outputs": [
    {
     "data": {
      "text/plain": [
       "(9338456820269818842067617922418465952890590659695436207814129061358299770200340663070553328486393390223249565095962183949737527034189286466618607833768964435472549784475725896743677614279476477276959861494285160216591650746257727144117029451190609825080203686696442053716366727654941894973190009649310,\n",
       " 1267470851103033146610756067998309940638524988039123516826241805758172060294095018903909984371775827592333056147472976260994026744538655258919960070571117502863210126032694775066747713631499672400830647389238352067592170317939574658731015713054696659143514706931355715650002446477691413081932258868126,\n",
       " 386270443028608913044690341203130801842385537593800578577960530599852876392121211061482915606221448507167228116709246112625041238986978068053044026602)"
      ]
     },
     "execution_count": 26,
     "metadata": {},
     "output_type": "execute_result"
    }
   ],
   "source": [
    "primes = set()\n",
    "P = Primes()\n",
    "gcd = 1\n",
    "a = 1\n",
    "b = 1\n",
    "for i in range(60):\n",
    "    gcd *= P.unrank(3 * i)\n",
    "    a *= P.unrank(3 * i) * P.unrank(3 * i + 2)\n",
    "    b *= P.unrank(3 * i) * P.unrank(3 * i + 1)\n",
    "\n",
    "a, b, gcd"
   ]
  },
  {
   "cell_type": "code",
   "execution_count": 27,
   "metadata": {},
   "outputs": [
    {
     "name": "stdout",
     "output_type": "stream",
     "text": [
      "5 loops, best of 3: 582 ms per loop\n"
     ]
    }
   ],
   "source": [
    "timeit('gcd_int(a, b)')"
   ]
  },
  {
   "cell_type": "code",
   "execution_count": 28,
   "metadata": {},
   "outputs": [
    {
     "name": "stdout",
     "output_type": "stream",
     "text": [
      "5 loops, best of 3: 727 ms per loop\n"
     ]
    }
   ],
   "source": [
    "timeit('gcd_int_mod(a, b)')"
   ]
  },
  {
   "cell_type": "code",
   "execution_count": 29,
   "metadata": {},
   "outputs": [
    {
     "data": {
      "text/plain": [
       "(281116367509022538629449085591914836708398155939839839980431519633305350842374425791219601342376192716695230804728637013181331257147793225510955663579209969253920185185477220993216865592606422769418921182837042802617413451188015791209625711886365090422621863463525861503383551274762531578640136750136924429149586795915390026730296662334273173236090458147447920310,\n",
       " 36152905671277835716683246937470509506450554196252347334312411591809176203704289639219205230030788922852124807073688927207619141997399578826858810290471682933257573923773599010847774892903761224483990322460188723759041403749965110427249652470374744572138009715815661590099017853869442966433686601541639047253943036760569124606024446961390155156434372928958255206,\n",
       " 2001955881941388704535139635672257724682729101255573726623652488992082147724661707752203957936278931169636759116042860395358308175905696717852112214430161354017635574807614455513882)"
      ]
     },
     "execution_count": 29,
     "metadata": {},
     "output_type": "execute_result"
    }
   ],
   "source": [
    "primes = set()\n",
    "P = Primes()\n",
    "gcd = 1\n",
    "a = 1\n",
    "b = 1\n",
    "for i in range(70):\n",
    "    gcd *= P.unrank(3 * i)\n",
    "    a *= P.unrank(3 * i) * P.unrank(3 * i + 2)\n",
    "    b *= P.unrank(3 * i) * P.unrank(3 * i + 1)\n",
    "\n",
    "a, b, gcd"
   ]
  },
  {
   "cell_type": "code",
   "execution_count": 30,
   "metadata": {},
   "outputs": [
    {
     "name": "stdout",
     "output_type": "stream",
     "text": [
      "5 loops, best of 3: 899 ms per loop\n"
     ]
    }
   ],
   "source": [
    "timeit('gcd_int(a, b)')"
   ]
  },
  {
   "cell_type": "code",
   "execution_count": 31,
   "metadata": {},
   "outputs": [
    {
     "name": "stdout",
     "output_type": "stream",
     "text": [
      "5 loops, best of 3: 1.06 s per loop\n"
     ]
    }
   ],
   "source": [
    "timeit('gcd_int_mod(a, b)')"
   ]
  },
  {
   "cell_type": "code",
   "execution_count": 32,
   "metadata": {},
   "outputs": [
    {
     "data": {
      "text/plain": [
       "(267429445693725191891038788421317000674900814765842175027210718471424884363413092809573371257366443817047032449704963116975167182166110715591248534249769150028715307494644312612561402067260336426989285209131463537514119283645416921148021162330308614514772055930655080464356159291962350580218100519409530877886365001953281955529581816500371779062684186844841256550489114125770779709127868741508488684102993678737503679355718170,\n",
       " 32884096074020919112566662246082423642933950496456730241531527555810506356314389978893843463378281971523036351842651961070222729388329272983982516094911036408555091073777385881699355960235404583298910699417318780299001873973471626515226375981035718427641556753484395849098682553713581554507477185209540398269666398511598085267534181344873617226126075414479484097060214941008201640999223337690130746368844138486239559150641434,\n",
       " 58194176904084378530248331012705747167539862591359791594477823082626512113068593567732930604821799138502620564729924851732683310081395013461826047730829769140097830385450617882515468968298018274322317393086090566)"
      ]
     },
     "execution_count": 32,
     "metadata": {},
     "output_type": "execute_result"
    }
   ],
   "source": [
    "primes = set()\n",
    "P = Primes()\n",
    "gcd = 1\n",
    "a = 1\n",
    "b = 1\n",
    "for i in range(80):\n",
    "    gcd *= P.unrank(3 * i)\n",
    "    a *= P.unrank(3 * i) * P.unrank(3 * i + 2)\n",
    "    b *= P.unrank(3 * i) * P.unrank(3 * i + 1)\n",
    "\n",
    "a, b, gcd"
   ]
  },
  {
   "cell_type": "code",
   "execution_count": 33,
   "metadata": {},
   "outputs": [
    {
     "name": "stdout",
     "output_type": "stream",
     "text": [
      "5 loops, best of 3: 1.27 s per loop\n"
     ]
    }
   ],
   "source": [
    "timeit('gcd_int(a, b)')"
   ]
  },
  {
   "cell_type": "code",
   "execution_count": 34,
   "metadata": {},
   "outputs": [
    {
     "name": "stdout",
     "output_type": "stream",
     "text": [
      "5 loops, best of 3: 1.46 s per loop\n"
     ]
    }
   ],
   "source": [
    "timeit('gcd_int_mod(a, b)')"
   ]
  },
  {
   "cell_type": "code",
   "execution_count": 35,
   "metadata": {},
   "outputs": [
    {
     "data": {
      "text/plain": [
       "(4318345938067940535048554334343783641665081491352375314566686674699896124016514148984281438653452941503614983920197075086439670021048588476780542297925223295904048189591446045792627337537365459913488279422323501136916583717774586519190374432099398434672696459510996012301813125315127850212841048995014575573604808769379562197988187822146584904050062541123075416571233577093516998758344486251777708717081625514145512368229399071286878147433552854776378387542099869048001449793406858742923390,\n",
       " 502598474601426543821172867113977633350992954812523102761203324359881119424102977768202183297478481006424085897247016019039082427201669852886376881913777134557436147237812567677537221716065088589576217125267179242890130417154764828203146463781355355382364112071182396626606747079708378235429882655741678749427796930297793281410542460630064347913161495295407594807283156158327017151388786597952807263534726875038172499921118258783086846069522121540334784667291951392034240771551081407541738,\n",
       " 7061394577808464979063484829027248702854946713887951824879425092524064839538684580615158478182488464221102441766356945889034187707103448636025750355605553171449012246091682649087426258862983308619065734914738445365171894119246191448284987165918)"
      ]
     },
     "execution_count": 35,
     "metadata": {},
     "output_type": "execute_result"
    }
   ],
   "source": [
    "primes = set()\n",
    "P = Primes()\n",
    "gcd = 1\n",
    "a = 1\n",
    "b = 1\n",
    "for i in range(90):\n",
    "    gcd *= P.unrank(3 * i)\n",
    "    a *= P.unrank(3 * i) * P.unrank(3 * i + 2)\n",
    "    b *= P.unrank(3 * i) * P.unrank(3 * i + 1)\n",
    "\n",
    "a, b, gcd"
   ]
  },
  {
   "cell_type": "code",
   "execution_count": 36,
   "metadata": {},
   "outputs": [
    {
     "name": "stdout",
     "output_type": "stream",
     "text": [
      "5 loops, best of 3: 1.66 s per loop\n"
     ]
    }
   ],
   "source": [
    "timeit('gcd_int(a, b)')"
   ]
  },
  {
   "cell_type": "code",
   "execution_count": 37,
   "metadata": {},
   "outputs": [
    {
     "name": "stdout",
     "output_type": "stream",
     "text": [
      "5 loops, best of 3: 1.72 s per loop\n"
     ]
    }
   ],
   "source": [
    "timeit('gcd_int_mod(a, b)')"
   ]
  },
  {
   "cell_type": "code",
   "execution_count": 38,
   "metadata": {},
   "outputs": [
    {
     "data": {
      "text/plain": [
       "(1038880448762075294101899484771645187553714410435580341310798228046553771491604269564254500936828071081524568850844559184943472857035101129153194121592883394767472732298512999555155226781675823402235320813604503233259605459553533998301548853734077971863923488822373986867494462661655088518233455592359716213521278853679153173931552856872002165770044422374583464645650593147300763787323107857098838320659913596541623373352450350101268941511518224689138847606655448706496353978712497677083548887363205386512289958282478052900742342801038762150912289743202810,\n",
       " 115710275792293065752028968051575807891366091651466558700608725741074521212819789458048320732499009460490874396729477944031561441143177953975851891325316352912296051719822451880400739261293398281974749969206814546922028151982948024864848426645565338710552438084979636342334716073031250879461609850935464584276082072073705909086386368069473788694991303425754443454728216773941370176326332961915556331722411561121313514137728248124534674855186752607010985758164058916591171156378109154129242506509536607681318126782276108907938780849567131748568677150416898,\n",
       " 3305028345207169120131580729872232356105465618112119242328940801205578126771894134163813499957824101692429814561700422439922879739629923650080194616837774600006231554241950457753915132276170668716453526039474510026915888495303551384536896843115288702261922746259066793394844306)"
      ]
     },
     "execution_count": 38,
     "metadata": {},
     "output_type": "execute_result"
    }
   ],
   "source": [
    "primes = set()\n",
    "P = Primes()\n",
    "gcd = 1\n",
    "a = 1\n",
    "b = 1\n",
    "for i in range(100):\n",
    "    gcd *= P.unrank(3 * i)\n",
    "    a *= P.unrank(3 * i) * P.unrank(3 * i + 2)\n",
    "    b *= P.unrank(3 * i) * P.unrank(3 * i + 1)\n",
    "\n",
    "a, b, gcd"
   ]
  },
  {
   "cell_type": "code",
   "execution_count": 39,
   "metadata": {},
   "outputs": [
    {
     "name": "stdout",
     "output_type": "stream",
     "text": [
      "5 loops, best of 3: 2.18 s per loop\n"
     ]
    }
   ],
   "source": [
    "timeit('gcd_int(a, b)')"
   ]
  },
  {
   "cell_type": "code",
   "execution_count": 40,
   "metadata": {},
   "outputs": [
    {
     "name": "stdout",
     "output_type": "stream",
     "text": [
      "5 loops, best of 3: 2.18 s per loop\n"
     ]
    }
   ],
   "source": [
    "timeit('gcd_int_mod(a, b)')"
   ]
  },
  {
   "cell_type": "code",
   "execution_count": 41,
   "metadata": {},
   "outputs": [
    {
     "data": {
      "text/plain": [
       "(2651678953686198784542815713596132257594670268979830338967821310405661407908459493437311983116748165733130262679031561431291994863136050882246851801065289223852430261495164922014904762084717663632472989212711319949949162871885846018549133750261468263728666559115025196054235776802205722212328981947523121570745565974962488427990592879331980917939759343904002608527747912103214462322833320532491647593697663577077871039572460165069876161792695410382113458409543785675470824020011015307407636991616629672499131586672151641592121382107587549591653419958314538890574343143559785474767595915553874190481360488363153553711596490,\n",
       " 285955522952002457345853439661603206860074982333226399985926356300700596647417511567822974003914020349381099105463020298860417802306769308352386553772989633128339769130075027228457775799863568883220780868447519603622838123612803604263234851958939126963049580305093175515516496611722981619942596712913628876500539854585710893425057921597808453071159436027364364976987647691187717994688948015199084910338608458864027219141292205932888183281040338350770689276619882271189245355791677036989388882206234443699109673174294936536192937281740416456315557211590978207188362678566439889413852171824145333674012823376450001425648498,\n",
       " 5111862940180955824777561310972228991968046930490744409562895692832668901183536712991294129258404637068380969374886729409177257877241055749709827610846838368202426676991684327321441489513650240141969240643723092049069105746122112850740040587258997812853375185494069792355534923518913064576492719622065548779134)"
      ]
     },
     "execution_count": 41,
     "metadata": {},
     "output_type": "execute_result"
    }
   ],
   "source": [
    "primes = set()\n",
    "P = Primes()\n",
    "gcd = 1\n",
    "a = 1\n",
    "b = 1\n",
    "for i in range(110):\n",
    "    gcd *= P.unrank(3 * i)\n",
    "    a *= P.unrank(3 * i) * P.unrank(3 * i + 2)\n",
    "    b *= P.unrank(3 * i) * P.unrank(3 * i + 1)\n",
    "\n",
    "a, b, gcd"
   ]
  },
  {
   "cell_type": "code",
   "execution_count": 42,
   "metadata": {},
   "outputs": [
    {
     "name": "stdout",
     "output_type": "stream",
     "text": [
      "5 loops, best of 3: 3.03 s per loop\n"
     ]
    }
   ],
   "source": [
    "timeit('gcd_int(a, b)')"
   ]
  },
  {
   "cell_type": "code",
   "execution_count": 43,
   "metadata": {},
   "outputs": [
    {
     "name": "stdout",
     "output_type": "stream",
     "text": [
      "5 loops, best of 3: 2.82 s per loop\n"
     ]
    }
   ],
   "source": [
    "timeit('gcd_int_mod(a, b)')"
   ]
  },
  {
   "cell_type": "code",
   "execution_count": 44,
   "metadata": {},
   "outputs": [
    {
     "data": {
      "text/plain": [
       "(56991192054608294346588959436400470523932215523218350318172374025393324087870998261899585458885749899187891167710604232190960335632229423927337342729327245734933495200275024568058942228691335991918013378198317378256316041445330893800521662972812333455378993526206623463757873403629772946975314747995514268558074837333775280211643804969548046590398545123000466347707746406663893512351531701506205540774654108311594124295530199192823282665187009954691494624479544550539265110317924124165834055991752056905471479586289121412615890067170756789864290259992497126579310411331196609249345350586887801774884771859597937157498602893626326101895494804932732738276168561564074242924390590256055030530,\n",
       " 5922580371257739588793678693377999025479217807815790444490821054407021754594118080054903511795351717082412529465357668445343671339253264348267306970514841123617842994284691298080899515281620681421865245970838923384164815884806057265335128894781873743075274086246035213823655766325117008398735355191510756683872115387013581456488316479731339321188523709178213760737708638270261961905908189254678123565774517785708823361359044601410169667415376547013823354585399575939749146147757431363363935278358187626510528365516798117282868958465557118598038275308256675471816351851013754129120188528188530227721808007980527094732710927255852153397589512845238023504162667214251030272493831959439036566,\n",
       " 22972434360628625595320210930632485667147054936111325647588898658090216893871151670300033524259678732982048250606840249728115876402853440852193981191798999947317209657673387601815357102211166411767794345798363562231202854299518350707327438503721455858355151897978363917090560866362663789923768487731613619799682779726487189229998540263000785098)"
      ]
     },
     "execution_count": 44,
     "metadata": {},
     "output_type": "execute_result"
    }
   ],
   "source": [
    "primes = set()\n",
    "P = Primes()\n",
    "gcd = 1\n",
    "a = 1\n",
    "b = 1\n",
    "for i in range(120):\n",
    "    gcd *= P.unrank(3 * i)\n",
    "    a *= P.unrank(3 * i) * P.unrank(3 * i + 2)\n",
    "    b *= P.unrank(3 * i) * P.unrank(3 * i + 1)\n",
    "\n",
    "a, b, gcd"
   ]
  },
  {
   "cell_type": "code",
   "execution_count": 45,
   "metadata": {},
   "outputs": [
    {
     "name": "stdout",
     "output_type": "stream",
     "text": [
      "5 loops, best of 3: 3.64 s per loop\n"
     ]
    }
   ],
   "source": [
    "timeit('gcd_int(a, b)')"
   ]
  },
  {
   "cell_type": "code",
   "execution_count": 46,
   "metadata": {},
   "outputs": [
    {
     "name": "stdout",
     "output_type": "stream",
     "text": [
      "5 loops, best of 3: 3.27 s per loop\n"
     ]
    }
   ],
   "source": [
    "timeit('gcd_int_mod(a, b)')"
   ]
  },
  {
   "cell_type": "code",
   "execution_count": null,
   "metadata": {},
   "outputs": [],
   "source": []
  }
 ],
 "metadata": {
  "kernelspec": {
   "display_name": "SageMath 8.6",
   "language": "",
   "name": "sagemath"
  },
  "language_info": {
   "codemirror_mode": {
    "name": "ipython",
    "version": 2
   },
   "file_extension": ".py",
   "mimetype": "text/x-python",
   "name": "python",
   "nbconvert_exporter": "python",
   "pygments_lexer": "ipython2",
   "version": "2.7.16"
  }
 },
 "nbformat": 4,
 "nbformat_minor": 2
}
