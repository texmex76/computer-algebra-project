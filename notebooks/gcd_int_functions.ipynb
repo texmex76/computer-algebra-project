{
 "cells": [
  {
   "cell_type": "markdown",
   "metadata": {},
   "source": [
    "# A modular GCD algorithm: Overview of algorithm\n",
    "\n",
    "The individual steps are the same as in K. Weber et al. / Journal of Algorithms 54 (2005) 152–167. Given are two integers $a, b \\in \\mathbb{Z}^*$. This notebook serves as an overview of the algorithm."
   ]
  },
  {
   "cell_type": "code",
   "execution_count": 1,
   "metadata": {},
   "outputs": [],
   "source": [
    "def mod(b, m):\n",
    "    y = b % m\n",
    "    if y > m / 2:\n",
    "        y -= m\n",
    "\n",
    "    return y"
   ]
  },
  {
   "cell_type": "code",
   "execution_count": 2,
   "metadata": {},
   "outputs": [],
   "source": [
    "def pi(x):\n",
    "    \"\"\"\n",
    "    Calculates the number of primes less than or equal to the given real number\n",
    "    \n",
    "    Parameters\n",
    "    ----------\n",
    "    x: real\n",
    "        A real number.\n",
    "        \n",
    "    Returns\n",
    "    -------\n",
    "    pi: integer\n",
    "        Number of primes.\n",
    "    \"\"\"\n",
    "    P = Primes()\n",
    "    i = 0\n",
    "    while P.unrank(i) <= x:\n",
    "        i += 1\n",
    "\n",
    "    return i"
   ]
  },
  {
   "cell_type": "code",
   "execution_count": 3,
   "metadata": {},
   "outputs": [],
   "source": [
    "def getPrimes(n):\n",
    "    primes = set()\n",
    "    P = Primes()\n",
    "    i = max(n, 9)\n",
    "    while len(primes) < n + 2:\n",
    "        i += 1\n",
    "        primes.add(P.unrank(i))\n",
    "\n",
    "    return primes"
   ]
  },
  {
   "cell_type": "code",
   "execution_count": 4,
   "metadata": {},
   "outputs": [],
   "source": [
    "def findPrime(P, U, V):\n",
    "    minimum = None\n",
    "    cur_p = None\n",
    "    for p in P:\n",
    "        m = abs(mod(U / V, p))\n",
    "        if minimum == None or m < minimum:\n",
    "            minimum = m\n",
    "            cur_p = p\n",
    "    \n",
    "    return cur_p"
   ]
  },
  {
   "cell_type": "code",
   "execution_count": 5,
   "metadata": {},
   "outputs": [],
   "source": [
    "def getPrimes_mod(number, bound):\n",
    "    primes = set()\n",
    "    P = Primes()\n",
    "    i = 0\n",
    "    while P.unrank(i) < bound:\n",
    "        i += 1\n",
    "\n",
    "    while len(primes) < number:\n",
    "        assert(i > 0)\n",
    "        i -= 1\n",
    "        primes.add(P.unrank(i))\n",
    "\n",
    "    return primes"
   ]
  },
  {
   "cell_type": "code",
   "execution_count": 6,
   "metadata": {},
   "outputs": [],
   "source": [
    "def findPrime_mod(P, u, v):\n",
    "    minimum = None\n",
    "    current_p = None\n",
    "    for p in P:\n",
    "        m = abs(mod(u[p] / v[p], p))\n",
    "        if minimum == None or m < minimum:\n",
    "            minimum = m\n",
    "            current_p = p\n",
    "    \n",
    "    return current_p    "
   ]
  },
  {
   "cell_type": "code",
   "execution_count": 7,
   "metadata": {},
   "outputs": [],
   "source": [
    "def gcd_int(a, b):\n",
    "    if a >= b:\n",
    "        U, V = a, b\n",
    "    else:\n",
    "        U, V = b, a\n",
    "\n",
    "    n = floor(log(U, 2)) + 1\n",
    "    Q = getPrimes(n)\n",
    "    while V != 0:\n",
    "        P = set()\n",
    "        for q in Q:\n",
    "            if mod(V, q) != 0:\n",
    "                P.add(q)\n",
    "\n",
    "        p = findPrime(P, U, V)\n",
    "        b = mod(U / V, p)\n",
    "        Q.remove(p)\n",
    "        U, V = V, (U - b * V) / p\n",
    "    \n",
    "    return abs(U)"
   ]
  },
  {
   "cell_type": "code",
   "execution_count": 8,
   "metadata": {},
   "outputs": [],
   "source": [
    "def gcd_int_mod(a, b):\n",
    "    if a >= b:\n",
    "        U, V = a, b\n",
    "    else:\n",
    "        U, V = b, a\n",
    "\n",
    "    n = floor(log(U, 2)) + 1\n",
    "    w = 1\n",
    "    while pi(2^w) - pi(2^(w-1)) < max(ceil(2^(w/2) + n), 9):\n",
    "        w += 1\n",
    "    \n",
    "    Q = getPrimes_mod(ceil(2^(w/2) + n), 2^w)\n",
    "    u, v = {}, {}\n",
    "    for q in Q:\n",
    "        u[q], v[q] = mod(U, q), mod(V, q)\n",
    "\n",
    "    while any(x != 0 for x in v.values()):\n",
    "        P = set()\n",
    "        for q in Q:\n",
    "            if mod(V, q) != 0:\n",
    "                P.add(q)\n",
    "\n",
    "        p = findPrime_mod(P, u, v)\n",
    "        b = mod(u[p] / v[p], p)\n",
    "        Q.remove(p)\n",
    "        del u[p], v[p]\n",
    "        for q in Q:\n",
    "            u[q], v[q] = v[q], mod((u[q] - b * v[q]) / p, q)    \n",
    "\n",
    "    G = 0\n",
    "    while any(x != 0 for x in u.values()):\n",
    "        p = Q.pop()\n",
    "        G = u[p] + p * G\n",
    "        for q in Q:\n",
    "            u[q] = mod((u[q] - u[p]) / p, q)\n",
    "\n",
    "        del u[p]\n",
    "\n",
    "    return abs(G)"
   ]
  },
  {
   "cell_type": "code",
   "execution_count": 9,
   "metadata": {},
   "outputs": [
    {
     "data": {
      "text/plain": [
       "35"
      ]
     },
     "execution_count": 9,
     "metadata": {},
     "output_type": "execute_result"
    }
   ],
   "source": [
    "gcd_int(7 * 5 * 7 * 7 * 3, 7 * 5 * 11 * 5)"
   ]
  },
  {
   "cell_type": "code",
   "execution_count": 10,
   "metadata": {},
   "outputs": [
    {
     "data": {
      "text/plain": [
       "35"
      ]
     },
     "execution_count": 10,
     "metadata": {},
     "output_type": "execute_result"
    }
   ],
   "source": [
    "gcd_int_mod(7 * 5 * 7 * 7 * 3, 7 * 5 * 11 * 5)"
   ]
  },
  {
   "cell_type": "code",
   "execution_count": null,
   "metadata": {},
   "outputs": [],
   "source": []
  }
 ],
 "metadata": {
  "kernelspec": {
   "display_name": "SageMath 8.6",
   "language": "",
   "name": "sagemath"
  },
  "language_info": {
   "codemirror_mode": {
    "name": "ipython",
    "version": 2
   },
   "file_extension": ".py",
   "mimetype": "text/x-python",
   "name": "python",
   "nbconvert_exporter": "python",
   "pygments_lexer": "ipython2",
   "version": "2.7.16"
  }
 },
 "nbformat": 4,
 "nbformat_minor": 2
}
