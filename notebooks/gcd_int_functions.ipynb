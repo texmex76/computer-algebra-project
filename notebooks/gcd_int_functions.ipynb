{
 "cells": [
  {
   "cell_type": "markdown",
   "metadata": {},
   "source": [
    "# A modular GCD algorithm: Overview of algorithm\n",
    "\n",
    "The individual steps are the same as in K. Weber et al. / Journal of Algorithms 54 (2005) 152–167. Given are two integers $a, b \\in \\mathbb{Z}^*$. This notebook serves as an overview of the algorithm."
   ]
  },
  {
   "cell_type": "markdown",
   "metadata": {},
   "source": [
    "First we define some common functions needed by the algorithm."
   ]
  },
  {
   "cell_type": "code",
   "execution_count": 1,
   "metadata": {},
   "outputs": [],
   "source": [
    "def mod(b, m):\n",
    "    \"\"\"\n",
    "    Returns the symmetrical modular representation of b mod n\n",
    "    \n",
    "    Parameters\n",
    "    ----------\n",
    "    b: integer\n",
    "        An integer.\n",
    "    m: integer\n",
    "        The modulus.\n",
    "        \n",
    "    Returns\n",
    "    -------\n",
    "    y: integer\n",
    "        Symmetrical modular representation b mod n.\n",
    "    \"\"\"\n",
    "    y = b % m\n",
    "    if y > m / 2:\n",
    "        y -= m\n",
    "\n",
    "    return y"
   ]
  },
  {
   "cell_type": "code",
   "execution_count": 2,
   "metadata": {},
   "outputs": [],
   "source": [
    "def pi(x):\n",
    "    \"\"\"\n",
    "    Calculates the number of primes less than or equal to the given real number\n",
    "    \n",
    "    Parameters\n",
    "    ----------\n",
    "    x: real\n",
    "        A real number.\n",
    "        \n",
    "    Returns\n",
    "    -------\n",
    "    pi: integer\n",
    "        Number of primes.\n",
    "    \"\"\"\n",
    "    P = Primes()\n",
    "    i = 0\n",
    "    while P.unrank(i) <= x:\n",
    "        i += 1\n",
    "\n",
    "    return i"
   ]
  },
  {
   "cell_type": "code",
   "execution_count": 3,
   "metadata": {},
   "outputs": [],
   "source": [
    "def getPrimes(n):\n",
    "    primes = set()\n",
    "    P = Primes()\n",
    "    i = max(n, 9)\n",
    "    while len(primes) < n + 2:\n",
    "        i += 1\n",
    "        primes.add(P.unrank(i))\n",
    "\n",
    "    return primes"
   ]
  },
  {
   "cell_type": "code",
   "execution_count": 4,
   "metadata": {},
   "outputs": [],
   "source": [
    "def findPrime(P, U, V):\n",
    "    minimum = None\n",
    "    cur_p = None\n",
    "    for p in P:\n",
    "        m = abs(mod(U / V, p))\n",
    "        if minimum == None or m < minimum:\n",
    "            minimum = m\n",
    "            cur_p = p\n",
    "    \n",
    "    return cur_p"
   ]
  },
  {
   "cell_type": "code",
   "execution_count": 5,
   "metadata": {},
   "outputs": [],
   "source": [
    "def getPrimes_mod(number, bound):\n",
    "    primes = set()\n",
    "    P = Primes()\n",
    "    i = 0\n",
    "    while P.unrank(i) < bound:\n",
    "        i += 1\n",
    "\n",
    "    while len(primes) < number:\n",
    "        assert(i > 0)\n",
    "        i -= 1\n",
    "        primes.add(P.unrank(i))\n",
    "\n",
    "    return primes"
   ]
  },
  {
   "cell_type": "code",
   "execution_count": 6,
   "metadata": {},
   "outputs": [],
   "source": [
    "def findPrime_mod(P, u, v):\n",
    "    minimum = None\n",
    "    current_p = None\n",
    "    for p in P:\n",
    "        if v[p] != 0:\n",
    "            m = abs(mod(u[p] / v[p], p))\n",
    "            if minimum == None or m < minimum:\n",
    "                minimum = m\n",
    "                current_p = p\n",
    "\n",
    "    return current_p    "
   ]
  },
  {
   "cell_type": "markdown",
   "metadata": {},
   "source": [
    "Now we implement the algorithm."
   ]
  },
  {
   "cell_type": "code",
   "execution_count": 7,
   "metadata": {},
   "outputs": [],
   "source": [
    "def gcd_int(a, b):\n",
    "    if a >= b:\n",
    "        U, V = a, b\n",
    "    else:\n",
    "        U, V = b, a\n",
    "\n",
    "    n = floor(log(U, 2)) + 1\n",
    "    Q = getPrimes(n)\n",
    "    while V != 0:\n",
    "        P = set()\n",
    "        for q in Q:\n",
    "            if mod(V, q) != 0:\n",
    "                P.add(q)\n",
    "\n",
    "        p = findPrime(P, U, V)\n",
    "        b = mod(U / V, p)\n",
    "        Q.remove(p)\n",
    "        U, V = V, (U - b * V) / p\n",
    "    \n",
    "    return abs(U)"
   ]
  },
  {
   "cell_type": "code",
   "execution_count": 8,
   "metadata": {},
   "outputs": [],
   "source": [
    "def gcd_int_mod(a, b):\n",
    "    if a >= b:\n",
    "        U, V = a, b\n",
    "    else:\n",
    "        U, V = b, a\n",
    "\n",
    "    n = floor(log(U, 2)) + 1\n",
    "    w = 1\n",
    "    while pi(2^w) - pi(2^(w-1)) < max(ceil(2^(w/2) + n), 9):\n",
    "        w += 1\n",
    "    \n",
    "    Q = getPrimes_mod(ceil(2^(w/2) + n), 2^w)\n",
    "    u, v = {}, {}\n",
    "    for q in Q:\n",
    "        u[q], v[q] = mod(U, q), mod(V, q)\n",
    "\n",
    "    while any(x != 0 for x in v.values()):\n",
    "        P = set()\n",
    "        for q in Q:\n",
    "            if mod(V, q) != 0:\n",
    "                P.add(q)\n",
    "\n",
    "        p = findPrime_mod(P, u, v)\n",
    "        b = mod(u[p] / v[p], p)\n",
    "        Q.remove(p)\n",
    "        del u[p], v[p]\n",
    "        for q in Q:\n",
    "            u[q], v[q] = v[q], mod((u[q] - b * v[q]) / p, q)    \n",
    "\n",
    "    G = 0\n",
    "    M = 1\n",
    "    r = u.copy()\n",
    "    while any(x != 0 for x in r.values()):\n",
    "        p = Q.pop()\n",
    "        G += M * r[p]\n",
    "        M *= p\n",
    "        for q in Q:\n",
    "            r[q] = mod((u[q] - G) / M, q)\n",
    "\n",
    "        del u[p]\n",
    "        del r[p]\n",
    "\n",
    "    return abs(G)"
   ]
  },
  {
   "cell_type": "markdown",
   "metadata": {},
   "source": [
    "Next we test our algorithm on simple inputs."
   ]
  },
  {
   "cell_type": "code",
   "execution_count": 9,
   "metadata": {},
   "outputs": [
    {
     "data": {
      "text/plain": [
       "35"
      ]
     },
     "execution_count": 9,
     "metadata": {},
     "output_type": "execute_result"
    }
   ],
   "source": [
    "gcd_int(7 * 5 * 7 * 7 * 3, 7 * 5 * 11 * 5)"
   ]
  },
  {
   "cell_type": "code",
   "execution_count": 10,
   "metadata": {},
   "outputs": [
    {
     "data": {
      "text/plain": [
       "35"
      ]
     },
     "execution_count": 10,
     "metadata": {},
     "output_type": "execute_result"
    }
   ],
   "source": [
    "gcd_int_mod(7 * 5 * 7 * 7 * 3, 7 * 5 * 11 * 5)"
   ]
  },
  {
   "cell_type": "code",
   "execution_count": 11,
   "metadata": {},
   "outputs": [],
   "source": [
    "assert gcd_int(1, 1) == 1\n",
    "assert gcd_int_mod(1, 1) == 1"
   ]
  },
  {
   "cell_type": "code",
   "execution_count": 12,
   "metadata": {},
   "outputs": [],
   "source": [
    "assert gcd_int(3, 1) == 1\n",
    "assert gcd_int_mod(3, 1) == 1"
   ]
  },
  {
   "cell_type": "code",
   "execution_count": 13,
   "metadata": {},
   "outputs": [],
   "source": [
    "assert gcd_int(1, 3) == 1\n",
    "assert gcd_int_mod(1, 3) == 1"
   ]
  },
  {
   "cell_type": "code",
   "execution_count": 14,
   "metadata": {},
   "outputs": [],
   "source": [
    "assert gcd_int(7 * 13 * 19, 11 * 17) == 1\n",
    "assert gcd_int_mod(7 * 13 * 19, 11 * 17) == 1"
   ]
  },
  {
   "cell_type": "code",
   "execution_count": 15,
   "metadata": {},
   "outputs": [],
   "source": [
    "def createExample(size):\n",
    "    P = Primes()\n",
    "    gcd = 1\n",
    "    a = 1\n",
    "    b = 1\n",
    "    for i in range(size):\n",
    "        gcd *= P.unrank(i)\n",
    "        a *= P.unrank(i) * P.unrank(size + 2 * i + 1)\n",
    "        b *= P.unrank(i) * P.unrank(size + 2 * i)\n",
    "\n",
    "    return a, b, gcd"
   ]
  },
  {
   "cell_type": "code",
   "execution_count": 16,
   "metadata": {},
   "outputs": [],
   "source": [
    "a, b, gcd = createExample(3)\n",
    "assert gcd_int(a, b) == gcd\n",
    "assert gcd_int_mod(a, b) == gcd"
   ]
  },
  {
   "cell_type": "code",
   "execution_count": 17,
   "metadata": {},
   "outputs": [],
   "source": [
    "a, b, gcd = createExample(6)\n",
    "assert gcd_int(a, b) == gcd\n",
    "assert gcd_int_mod(a, b) == gcd"
   ]
  },
  {
   "cell_type": "code",
   "execution_count": 18,
   "metadata": {},
   "outputs": [],
   "source": [
    "a, b, gcd = createExample(9)\n",
    "assert gcd_int(a, b) == gcd\n",
    "assert gcd_int_mod(a, b) == gcd"
   ]
  },
  {
   "cell_type": "markdown",
   "metadata": {},
   "source": [
    "Finally, we do some performance tests."
   ]
  },
  {
   "cell_type": "code",
   "execution_count": 19,
   "metadata": {},
   "outputs": [
    {
     "name": "stdout",
     "output_type": "stream",
     "text": [
      "size == 10\n",
      "gcd_int\n",
      "25 loops, best of 3: 9.24 ms per loop\n",
      "gcd_int_mod\n",
      "25 loops, best of 3: 24.4 ms per loop\n",
      "\n",
      "size == 20\n",
      "gcd_int\n",
      "5 loops, best of 3: 51.2 ms per loop\n",
      "gcd_int_mod\n",
      "5 loops, best of 3: 99.7 ms per loop\n",
      "\n",
      "size == 30\n",
      "gcd_int\n",
      "5 loops, best of 3: 119 ms per loop\n",
      "gcd_int_mod\n",
      "5 loops, best of 3: 186 ms per loop\n",
      "\n",
      "size == 40\n",
      "gcd_int\n",
      "5 loops, best of 3: 223 ms per loop\n",
      "gcd_int_mod\n",
      "5 loops, best of 3: 338 ms per loop\n",
      "\n",
      "size == 50\n",
      "gcd_int\n",
      "5 loops, best of 3: 392 ms per loop\n",
      "gcd_int_mod\n",
      "5 loops, best of 3: 545 ms per loop\n",
      "\n",
      "size == 60\n",
      "gcd_int\n",
      "5 loops, best of 3: 630 ms per loop\n",
      "gcd_int_mod\n",
      "5 loops, best of 3: 808 ms per loop\n",
      "\n",
      "size == 70\n",
      "gcd_int\n",
      "5 loops, best of 3: 970 ms per loop\n",
      "gcd_int_mod\n",
      "5 loops, best of 3: 1.14 s per loop\n",
      "\n",
      "size == 80\n",
      "gcd_int\n",
      "5 loops, best of 3: 1.37 s per loop\n",
      "gcd_int_mod\n",
      "5 loops, best of 3: 1.53 s per loop\n",
      "\n",
      "size == 90\n",
      "gcd_int\n",
      "5 loops, best of 3: 1.89 s per loop\n",
      "gcd_int_mod\n",
      "5 loops, best of 3: 1.98 s per loop\n",
      "\n",
      "size == 100\n",
      "gcd_int\n",
      "5 loops, best of 3: 2.46 s per loop\n",
      "gcd_int_mod\n",
      "5 loops, best of 3: 2.57 s per loop\n",
      "\n",
      "size == 110\n",
      "gcd_int\n",
      "5 loops, best of 3: 3.19 s per loop\n",
      "gcd_int_mod\n",
      "5 loops, best of 3: 3.13 s per loop\n",
      "\n",
      "size == 120\n",
      "gcd_int\n",
      "5 loops, best of 3: 3.99 s per loop\n",
      "gcd_int_mod\n",
      "5 loops, best of 3: 3.84 s per loop\n",
      "\n"
     ]
    }
   ],
   "source": [
    "for size in range(10, 130, 10):\n",
    "    a, b, gcd = createExample(size)\n",
    "    print 'size ==', size\n",
    "    print 'gcd_int'\n",
    "    timeit('gcd_int(a, b)')\n",
    "    print 'gcd_int_mod'\n",
    "    timeit('gcd_int_mod(a, b)')\n",
    "    print"
   ]
  },
  {
   "cell_type": "code",
   "execution_count": null,
   "metadata": {},
   "outputs": [],
   "source": []
  }
 ],
 "metadata": {
  "kernelspec": {
   "display_name": "SageMath 8.6",
   "language": "",
   "name": "sagemath"
  },
  "language_info": {
   "codemirror_mode": {
    "name": "ipython",
    "version": 2
   },
   "file_extension": ".py",
   "mimetype": "text/x-python",
   "name": "python",
   "nbconvert_exporter": "python",
   "pygments_lexer": "ipython2",
   "version": "2.7.16"
  }
 },
 "nbformat": 4,
 "nbformat_minor": 2
}
