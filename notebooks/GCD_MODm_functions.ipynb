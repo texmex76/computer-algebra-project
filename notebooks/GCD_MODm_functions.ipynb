{
 "cells": [
  {
   "cell_type": "markdown",
   "metadata": {},
   "source": [
    "# A modular GCD algorithm: Functions\n",
    "\n",
    "The individual steps are the same as in the script. Given are two polynomials $a, b \\in \\mathbb{Z}[x_1, \\dots, x_s][x_n]$ with $0 \\leq s < n$. This notebook serves as the implementation of a unified function that calculates the GCD."
   ]
  },
  {
   "cell_type": "code",
   "execution_count": 26,
   "metadata": {},
   "outputs": [],
   "source": [
    "# Note: This function is a hack that uses GCD.\n",
    "# Implement pp() another way?\n",
    "\n",
    "def pp(poly, var):\n",
    "    \"\"\"\n",
    "    Calculates the primitive part of a polynomial\n",
    "    in a given variable.\n",
    "    \n",
    "    Parameters\n",
    "    ----------\n",
    "    poly: polynomial\n",
    "        Polynomial.\n",
    "    var: variable\n",
    "        Variable to take the primitive part of.\n",
    "        \n",
    "    Returns\n",
    "    -------\n",
    "    pp: polynomial\n",
    "        Primitive part.\n",
    "    \"\"\"\n",
    "    return poly / gcd(poly.polynomial(var).list())\n",
    "\n",
    "def cont(poly, var):\n",
    "    return gcd(poly.polynomial(var).list())"
   ]
  },
  {
   "cell_type": "code",
   "execution_count": 27,
   "metadata": {},
   "outputs": [],
   "source": [
    "import sympy\n",
    "\n",
    "def interpolate(rpolys, I, var):\n",
    "    \"\"\"\n",
    "    Interpolates a set of polynomials.\n",
    "    \n",
    "    Parameters\n",
    "    ----------\n",
    "    rpolys: array-like\n",
    "        Array consisting of tuples `(r,poly)`, where `r`\n",
    "        is an integer.\n",
    "    I: MPolynomialRing\n",
    "        Polynomial ring.\n",
    "    var: variable\n",
    "        The variable to interpolate.\n",
    "        \n",
    "    Returns\n",
    "    -------\n",
    "    Interpolated polynomial.\n",
    "    \"\"\"\n",
    "    symb = sympy.Symbol(var.__repr__())\n",
    "    \n",
    "    rpolys_sympified = [(gr[0], sympy.sympify(gr[1].__repr__())) for gr in rpolys]\n",
    "    \n",
    "    result = sympy.polys.polyfuncs.interpolate(rpolys_sympified, symb)\n",
    "    \n",
    "    return I(result)"
   ]
  },
  {
   "cell_type": "code",
   "execution_count": 28,
   "metadata": {},
   "outputs": [],
   "source": [
    "class r_int():\n",
    "    \"\"\"\"\n",
    "    Class to store the parameter `r`.\n",
    "    \n",
    "    Attributes\n",
    "    ----------\n",
    "    r : int\n",
    "        The variable.\n",
    "    r_max: int\n",
    "        Maximum possible `r`. Used to prevent an\n",
    "        infinite while-loop.\n",
    "\n",
    "    Methods\n",
    "    -------\n",
    "    reset_r()\n",
    "        Resets `r` to 0.\n",
    "    get_new_r(a_prime, b_prime, xs, xn)\n",
    "        Given two polynomials, get a new `r`.\n",
    "    \"\"\"\n",
    "    def __init__(self, r_max=10000):\n",
    "        self.r = 0\n",
    "        self.r_max = r_max\n",
    "\n",
    "    def reset_r(self):\n",
    "        self.r = 0\n",
    "\n",
    "    def get_new_r(self, a_prime, b_prime, xs, xn):\n",
    "        while self.r < self.r_max:\n",
    "            self.r += 1\n",
    "            if a_prime.substitute({xs:self.r}).degree(xn) == a_prime.degree(xn):\n",
    "                return self.r\n",
    "            if b_prime.substitute({xs:self.r}).degree(xn) == b_prime.degree(xn):\n",
    "                return self.r\n",
    "        raise Exception(\"r exceeded r_max\")"
   ]
  },
  {
   "cell_type": "code",
   "execution_count": 29,
   "metadata": {},
   "outputs": [],
   "source": [
    "import pdb"
   ]
  },
  {
   "cell_type": "code",
   "execution_count": 30,
   "metadata": {},
   "outputs": [],
   "source": [
    "def GCD_MODm(a, b, I):\n",
    "    \"\"\"\n",
    "    Calculates the GCD of two multivariate polynomials\n",
    "    using a modular algorithm.\n",
    "    \n",
    "    Parameters\n",
    "    ----------\n",
    "    a: polynomial\n",
    "        First polynomial.\n",
    "    b: polynomial\n",
    "        Second polynomial.\n",
    "    I: MPolynomialRing\n",
    "        Polynomial ring.\n",
    "        \n",
    "    Returns\n",
    "    -------\n",
    "    gcd: polynomial\n",
    "        GCD of the two polynomials.\n",
    "    \"\"\"\n",
    "    # Checking if a or b are integers. Maybe there's a better\n",
    "    # method, but this works for now\n",
    "    # TODO: call own integer gcd algorithm\n",
    "    if hasattr(a, \"sqrt\") or hasattr(b, \"sqrt\"):\n",
    "        return a.gcd(b)\n",
    "    \n",
    "    # To avoid problems later\n",
    "    assert a.args() == b.args()\n",
    "    \n",
    "    if a.is_univariate() or b.is_univariate():\n",
    "        # TODO: Call own GCD_MOD\n",
    "        return a.gcd(b)\n",
    "    \n",
    "    xn = a.args()[0]\n",
    "    xs = a.args()[1]\n",
    "    \n",
    "    M = 1 + min(a.degree(xs), b.degree(xs))\n",
    "    \n",
    "    a_prime = pp(a, xn)\n",
    "    b_prime = pp(b, xn)\n",
    "    \n",
    "    I_prime = I.remove_var(I.gens()[0])\n",
    "    f = GCD_MODm(a.content(), b.content(), I_prime)\n",
    "    \n",
    "    d = GCD_MODm(a_prime.polynomial(xn).lc(), b_prime.polynomial(xn).lc(), I_prime)\n",
    "    \n",
    "    variable_r = r_int()\n",
    "    \n",
    "    while True:\n",
    "        variable_r.get_new_r(a_prime, b_prime, xs, xn)\n",
    "        \n",
    "        g_prime = a_prime.substitute({xs:variable_r.r}).gcd(b_prime.substitute({xs:variable_r.r}))\n",
    "        \n",
    "        c = g_prime.polynomial(xn).lc()\n",
    "        \n",
    "        # In case the division fails\n",
    "        if (d.substitute({xs:variable_r.r}) * g_prime).quo_rem(c)[1] != 0:\n",
    "            continue\n",
    "        \n",
    "        g_r = (d.substitute({xs:variable_r.r}) * g_prime) / c\n",
    "        \n",
    "        while True:\n",
    "            # This array will get more elements later\n",
    "            gs = [(variable_r.r, g_r)]\n",
    "\n",
    "            m = 1\n",
    "\n",
    "            bad_degree = False\n",
    "            while m <= M:\n",
    "                variable_r.get_new_r(a_prime, b_prime, xs, xn)\n",
    "\n",
    "                g_prime = a_prime.substitute({xs:variable_r.r}).gcd(b_prime.substitute({xs:variable_r.r}))\n",
    "\n",
    "                c = g_prime.polynomial(xn).lc()\n",
    "\n",
    "                # In case the division fails\n",
    "                if (d.substitute({xs:variable_r.r}) * g_prime).quo_rem(c)[1] != 0:\n",
    "                    continue\n",
    "\n",
    "                g_r = (d.substitute({xs:variable_r.r}) * g_prime) / c\n",
    "\n",
    "                if g_r.degree(xn) < gs[0][1].degree(xn):\n",
    "                    break\n",
    "                    bad_degree = True\n",
    "                \n",
    "                if g_r.degree(xn) == gs[0][1].degree(xn):\n",
    "                    gs.append((variable_r.r, g_r))\n",
    "                    \n",
    "                    interim_result = interpolate(gs, I, xs)\n",
    "                    \n",
    "                    # Already testing if it's the GCD\n",
    "                    if a.quo_rem(interim_result)[1] == 0 and b.quo_rem(interim_result)[1] == 0:\n",
    "                        break\n",
    "                    \n",
    "                    m += 1\n",
    "\n",
    "            if bad_degree == False:\n",
    "                g_final = f * pp(interim_result, xn)\n",
    "                if a.quo_rem(g_final)[1] == 0 and b.quo_rem(g_final)[1] == 0:\n",
    "                    return g_final"
   ]
  },
  {
   "cell_type": "code",
   "execution_count": 31,
   "metadata": {},
   "outputs": [],
   "source": [
    "I.<y,x> = PolynomialRing(QQ, order='lex')\n",
    "\n",
    "a = 2*x^2*y^3 - x*y^3 + x^3*y^2 + 2*x^4 * y-x^3*y - 6*x*y + 3*y + x^5 - 3*x^2\n",
    "b = 2*x*y^3 - y^3 - x^2*y^2 + x*y^2 - x^3*y + 4*x*y - 2*y + 2*x^2"
   ]
  },
  {
   "cell_type": "code",
   "execution_count": 32,
   "metadata": {},
   "outputs": [
    {
     "data": {
      "text/plain": [
       "2*y*x - y + x^2"
      ]
     },
     "execution_count": 32,
     "metadata": {},
     "output_type": "execute_result"
    }
   ],
   "source": [
    "GCD_MODm(a, b, I)"
   ]
  },
  {
   "cell_type": "code",
   "execution_count": 33,
   "metadata": {},
   "outputs": [
    {
     "data": {
      "text/plain": [
       "2*y*x - y + x^2"
      ]
     },
     "execution_count": 33,
     "metadata": {},
     "output_type": "execute_result"
    }
   ],
   "source": [
    "a.gcd(b)"
   ]
  },
  {
   "cell_type": "code",
   "execution_count": null,
   "metadata": {},
   "outputs": [],
   "source": []
  }
 ],
 "metadata": {
  "kernelspec": {
   "display_name": "SageMath 8.9",
   "language": "sage",
   "name": "sagemath"
  },
  "language_info": {
   "codemirror_mode": {
    "name": "ipython",
    "version": 2
   },
   "file_extension": ".py",
   "mimetype": "text/x-python",
   "name": "python",
   "nbconvert_exporter": "python",
   "pygments_lexer": "ipython2",
   "version": "2.7.15"
  }
 },
 "nbformat": 4,
 "nbformat_minor": 2
}
