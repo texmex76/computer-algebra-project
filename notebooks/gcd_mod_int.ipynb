{
 "cells": [
  {
   "cell_type": "markdown",
   "metadata": {},
   "source": [
    "# A modular GCD algorithm: Overview of algorithm\n",
    "\n",
    "The individual steps are the same as in K. Weber et al. / Journal of Algorithms 54 (2005) 152–167. Given are two integers $a, b \\in \\mathbb{Z}^*$. This notebook serves as an overview of the algorithm."
   ]
  },
  {
   "cell_type": "code",
   "execution_count": 1,
   "metadata": {},
   "outputs": [
    {
     "data": {
      "text/plain": [
       "(2001, 1265)"
      ]
     },
     "execution_count": 1,
     "metadata": {},
     "output_type": "execute_result"
    }
   ],
   "source": [
    "a = 23 * 87\n",
    "b = 23 * 55\n",
    "a, b"
   ]
  },
  {
   "cell_type": "code",
   "execution_count": 2,
   "metadata": {},
   "outputs": [],
   "source": [
    "if a >= b:\n",
    "    U = a\n",
    "    V = b\n",
    "else:\n",
    "    U = b\n",
    "    V = a"
   ]
  },
  {
   "cell_type": "markdown",
   "metadata": {},
   "source": [
    "## MGCD1: [Find suitable moduli]\n",
    "\n",
    "$$\n",
    "\\begin{align}\n",
    "1 \\quad & n = \\lfloor \\text{lg} U \\rfloor + 1 \\\\\n",
    "2 \\quad & w = \\text{ an integer satisfying }\\pi(2^w) - \\pi(2^{w-1}) \\leq \\text{max}\\lbrace \\lceil 2^{w/2}+n \\rceil, 9 \\rbrace \\\\\n",
    "3 \\quad & Q = \\text{ the set of }\\lceil 2^{w/2} + n \\rceil\\text{ largest primes less than }2 w\n",
    "\\end{align}\n",
    "$$"
   ]
  },
  {
   "cell_type": "code",
   "execution_count": 3,
   "metadata": {},
   "outputs": [
    {
     "data": {
      "text/plain": [
       "11"
      ]
     },
     "execution_count": 3,
     "metadata": {},
     "output_type": "execute_result"
    }
   ],
   "source": [
    "n = floor(log(U, 2)) + 1\n",
    "n"
   ]
  },
  {
   "cell_type": "code",
   "execution_count": 4,
   "metadata": {},
   "outputs": [],
   "source": [
    "def pi(x):\n",
    "    \"\"\"\n",
    "    Calculates the number of primes less than or equal to the given real number\n",
    "    \n",
    "    Parameters\n",
    "    ----------\n",
    "    x: real\n",
    "        A real number.\n",
    "        \n",
    "    Returns\n",
    "    -------\n",
    "    pi: integer\n",
    "        Number of primes.\n",
    "    \"\"\"\n",
    "    P = Primes()\n",
    "    i = 0\n",
    "    while P.unrank(i) <= x:\n",
    "        i += 1\n",
    "\n",
    "    return i"
   ]
  },
  {
   "cell_type": "code",
   "execution_count": 5,
   "metadata": {},
   "outputs": [
    {
     "data": {
      "text/plain": [
       "9"
      ]
     },
     "execution_count": 5,
     "metadata": {},
     "output_type": "execute_result"
    }
   ],
   "source": [
    "w = 1\n",
    "while pi(2^w) - pi(2^(w-1)) < max(ceil(2^(w/2) + n), 9):\n",
    "    w += 1\n",
    "\n",
    "w"
   ]
  },
  {
   "cell_type": "code",
   "execution_count": 6,
   "metadata": {},
   "outputs": [],
   "source": [
    "def getLargestPrimes(number, bound):\n",
    "    primes = set()\n",
    "    P = Primes()\n",
    "    i = 0\n",
    "    while P.unrank(i) < bound:\n",
    "        i += 1\n",
    "\n",
    "    while len(primes) < number:\n",
    "        assert(i > 0)\n",
    "        i -= 1\n",
    "        primes.add(P.unrank(i))\n",
    "\n",
    "    return primes"
   ]
  },
  {
   "cell_type": "code",
   "execution_count": 7,
   "metadata": {},
   "outputs": [
    {
     "data": {
      "text/plain": [
       "{311,\n",
       " 313,\n",
       " 317,\n",
       " 331,\n",
       " 337,\n",
       " 347,\n",
       " 349,\n",
       " 353,\n",
       " 359,\n",
       " 367,\n",
       " 373,\n",
       " 379,\n",
       " 383,\n",
       " 389,\n",
       " 397,\n",
       " 401,\n",
       " 409,\n",
       " 419,\n",
       " 421,\n",
       " 431,\n",
       " 433,\n",
       " 439,\n",
       " 443,\n",
       " 449,\n",
       " 457,\n",
       " 461,\n",
       " 463,\n",
       " 467,\n",
       " 479,\n",
       " 487,\n",
       " 491,\n",
       " 499,\n",
       " 503,\n",
       " 509}"
      ]
     },
     "execution_count": 7,
     "metadata": {},
     "output_type": "execute_result"
    }
   ],
   "source": [
    "Q = getLargestPrimes(ceil(2^(w/2) + n), 2^w)\n",
    "Q"
   ]
  },
  {
   "cell_type": "markdown",
   "metadata": {},
   "source": [
    "## MGCD2: [Convert to modular representation]\n",
    "\n",
    "$$\n",
    "\\begin{align}\n",
    "1 \\quad & \\text{For all }q ∈ \\mathcal{Q}\\text{ do }[u_q, v_q ] = [U\\text{ mod } q, V\\text{ mod }q]\n",
    "\\end{align}\n",
    "$$"
   ]
  },
  {
   "cell_type": "code",
   "execution_count": 8,
   "metadata": {},
   "outputs": [
    {
     "data": {
      "text/plain": [
       "({311: 135,\n",
       "  313: 123,\n",
       "  317: 99,\n",
       "  331: 15,\n",
       "  337: -21,\n",
       "  347: -81,\n",
       "  349: -93,\n",
       "  353: -117,\n",
       "  359: -153,\n",
       "  367: 166,\n",
       "  373: 136,\n",
       "  379: 106,\n",
       "  383: 86,\n",
       "  389: 56,\n",
       "  397: 16,\n",
       "  401: -4,\n",
       "  409: -44,\n",
       "  419: -94,\n",
       "  421: -104,\n",
       "  431: -154,\n",
       "  433: -164,\n",
       "  439: -194,\n",
       "  443: -214,\n",
       "  449: 205,\n",
       "  457: 173,\n",
       "  461: 157,\n",
       "  463: 149,\n",
       "  467: 133,\n",
       "  479: 85,\n",
       "  487: 53,\n",
       "  491: 37,\n",
       "  499: 5,\n",
       "  503: -11,\n",
       "  509: -35},\n",
       " {311: 21,\n",
       "  313: 13,\n",
       "  317: -3,\n",
       "  331: -59,\n",
       "  337: -83,\n",
       "  347: -123,\n",
       "  349: -131,\n",
       "  353: -147,\n",
       "  359: -171,\n",
       "  367: 164,\n",
       "  373: 146,\n",
       "  379: 128,\n",
       "  383: 116,\n",
       "  389: 98,\n",
       "  397: 74,\n",
       "  401: 62,\n",
       "  409: 38,\n",
       "  419: 8,\n",
       "  421: 2,\n",
       "  431: -28,\n",
       "  433: -34,\n",
       "  439: -52,\n",
       "  443: -64,\n",
       "  449: -82,\n",
       "  457: -106,\n",
       "  461: -118,\n",
       "  463: -124,\n",
       "  467: -136,\n",
       "  479: -172,\n",
       "  487: -196,\n",
       "  491: -208,\n",
       "  499: -232,\n",
       "  503: -244,\n",
       "  509: 247})"
      ]
     },
     "execution_count": 8,
     "metadata": {},
     "output_type": "execute_result"
    }
   ],
   "source": [
    "u, v = {}, {}\n",
    "for q in Q:\n",
    "    u[q], v[q] = U % q, V % q\n",
    "    if u[q] > q / 2:\n",
    "        u[q] -= q\n",
    "\n",
    "    if v[q] > q / 2:\n",
    "        v[q] -= q\n",
    "\n",
    "u, v"
   ]
  },
  {
   "cell_type": "markdown",
   "metadata": {},
   "source": [
    "## MGCD3: [Reduction loop]\n",
    "\n",
    "$$\n",
    "\\begin{align}\n",
    "1 \\quad & \\text{Repeat} \\\\\n",
    "2 \\quad & \\quad \\mathcal{P} = \\lbrace q ∈ \\mathcal{Q} | V\\text{ mod }q \\neq 0 \\rbrace \\\\\n",
    "3 \\quad & \\quad p =\\text{ an element of }\\mathcal{P}\\text{ for which }|u_p / v_p\\text{ mod }p|\\text{ is minimal.} \\\\\n",
    "4 \\quad & \\quad b = u_p / v_p\\text{ mod }p \\\\\n",
    "5 \\quad & \\quad Q = Q - \\lbrace p \\rbrace \\\\\n",
    "6 \\quad & \\quad \\text{For all }q ∈ \\mathcal{Q}\\text{ do }[u_q, v_q] = [v_q, (u_q - b v_q )/p\\text{ mod }q] \\\\\n",
    "7 \\quad & \\text{Until }∀q ∈ \\mathcal{Q}, v_q = 0\n",
    "\\end{align}\n",
    "$$"
   ]
  },
  {
   "cell_type": "code",
   "execution_count": 15,
   "metadata": {},
   "outputs": [
    {
     "data": {
      "text/plain": [
       "{311,\n",
       " 313,\n",
       " 317,\n",
       " 331,\n",
       " 337,\n",
       " 347,\n",
       " 349,\n",
       " 359,\n",
       " 367,\n",
       " 373,\n",
       " 379,\n",
       " 383,\n",
       " 389,\n",
       " 397,\n",
       " 401,\n",
       " 409,\n",
       " 419,\n",
       " 421,\n",
       " 431,\n",
       " 433,\n",
       " 439,\n",
       " 443,\n",
       " 449,\n",
       " 457,\n",
       " 461,\n",
       " 463,\n",
       " 467,\n",
       " 479,\n",
       " 487,\n",
       " 491,\n",
       " 499,\n",
       " 503,\n",
       " 509}"
      ]
     },
     "execution_count": 15,
     "metadata": {},
     "output_type": "execute_result"
    }
   ],
   "source": [
    "P = set()\n",
    "for q in Q:\n",
    "    if V % q != 0:\n",
    "        P.add(q)\n",
    "\n",
    "P"
   ]
  },
  {
   "cell_type": "code",
   "execution_count": 16,
   "metadata": {},
   "outputs": [],
   "source": [
    "def findPrime(P):\n",
    "    minimum = None\n",
    "    current_p = None\n",
    "    for p in P:\n",
    "        abs_module = abs(u[p] / v[p] % p)\n",
    "        if minimum == None or abs_module < minimum:\n",
    "            minimum = abs_module\n",
    "            current_p = p\n",
    "    \n",
    "    return current_p        "
   ]
  },
  {
   "cell_type": "code",
   "execution_count": 17,
   "metadata": {},
   "outputs": [
    {
     "data": {
      "text/plain": [
       "311"
      ]
     },
     "execution_count": 17,
     "metadata": {},
     "output_type": "execute_result"
    }
   ],
   "source": [
    "p = findPrime(P)\n",
    "p"
   ]
  },
  {
   "cell_type": "code",
   "execution_count": 18,
   "metadata": {},
   "outputs": [
    {
     "data": {
      "text/plain": [
       "-55"
      ]
     },
     "execution_count": 18,
     "metadata": {},
     "output_type": "execute_result"
    }
   ],
   "source": [
    "b = (u[p] / v[p]) % p\n",
    "if b > p / 2:\n",
    "    b -= p\n",
    "\n",
    "b"
   ]
  },
  {
   "cell_type": "code",
   "execution_count": 19,
   "metadata": {},
   "outputs": [
    {
     "data": {
      "text/plain": [
       "{313,\n",
       " 317,\n",
       " 331,\n",
       " 337,\n",
       " 347,\n",
       " 349,\n",
       " 359,\n",
       " 367,\n",
       " 373,\n",
       " 379,\n",
       " 383,\n",
       " 389,\n",
       " 397,\n",
       " 401,\n",
       " 409,\n",
       " 419,\n",
       " 421,\n",
       " 431,\n",
       " 433,\n",
       " 439,\n",
       " 443,\n",
       " 449,\n",
       " 457,\n",
       " 461,\n",
       " 463,\n",
       " 467,\n",
       " 479,\n",
       " 487,\n",
       " 491,\n",
       " 499,\n",
       " 503,\n",
       " 509}"
      ]
     },
     "execution_count": 19,
     "metadata": {},
     "output_type": "execute_result"
    }
   ],
   "source": [
    "Q.remove(p)\n",
    "Q"
   ]
  },
  {
   "cell_type": "code",
   "execution_count": 20,
   "metadata": {},
   "outputs": [
    {
     "data": {
      "text/plain": [
       "({313: -23,\n",
       "  317: -23,\n",
       "  331: -23,\n",
       "  337: -23,\n",
       "  347: -23,\n",
       "  349: -23,\n",
       "  359: -23,\n",
       "  367: -23,\n",
       "  373: -23,\n",
       "  379: -23,\n",
       "  383: -23,\n",
       "  389: -23,\n",
       "  397: -23,\n",
       "  401: -23,\n",
       "  409: -23,\n",
       "  419: -23,\n",
       "  421: -23,\n",
       "  431: -23,\n",
       "  433: -23,\n",
       "  439: -23,\n",
       "  443: -23,\n",
       "  449: -23,\n",
       "  457: -23,\n",
       "  461: -23,\n",
       "  463: -23,\n",
       "  467: -23,\n",
       "  479: -23,\n",
       "  487: -23,\n",
       "  491: -23,\n",
       "  499: -23,\n",
       "  503: -23,\n",
       "  509: -23},\n",
       " {313: 0,\n",
       "  317: 0,\n",
       "  331: 0,\n",
       "  337: 0,\n",
       "  347: 0,\n",
       "  349: 0,\n",
       "  359: 0,\n",
       "  367: 0,\n",
       "  373: 0,\n",
       "  379: 0,\n",
       "  383: 0,\n",
       "  389: 0,\n",
       "  397: 0,\n",
       "  401: 0,\n",
       "  409: 0,\n",
       "  419: 0,\n",
       "  421: 0,\n",
       "  431: 0,\n",
       "  433: 0,\n",
       "  439: 0,\n",
       "  443: 0,\n",
       "  449: 0,\n",
       "  457: 0,\n",
       "  461: 0,\n",
       "  463: 0,\n",
       "  467: 0,\n",
       "  479: 0,\n",
       "  487: 0,\n",
       "  491: 0,\n",
       "  499: 0,\n",
       "  503: 0,\n",
       "  509: 0})"
      ]
     },
     "execution_count": 20,
     "metadata": {},
     "output_type": "execute_result"
    }
   ],
   "source": [
    "del u[p], v[p]\n",
    "for q in Q:\n",
    "    u[q], v[q] = v[q], (u[q] - b * v[q]) / p % q\n",
    "    if u[q] > q / 2:\n",
    "        u[q] -= q\n",
    "\n",
    "    if v[q] > q / 2:\n",
    "        v[q] -= q\n",
    "\n",
    "u, v"
   ]
  },
  {
   "cell_type": "markdown",
   "metadata": {},
   "source": [
    "## MGCD4: [Return standard representation]\n",
    "\n",
    "$$\n",
    "\\begin{align}\n",
    "1 \\quad & G = 0 \\\\\n",
    "2 \\quad & \\text{Repeat} \\\\\n",
    "3 \\quad & \\quad p =\\text{ an element of }\\mathcal{Q} \\\\\n",
    "4 \\quad & \\quad \\mathcal{Q} = \\mathcal{Q} - \\lbrace p\\rbrace \\\\\n",
    "5 \\quad & \\quad G = u_p + p G \\\\\n",
    "6 \\quad & \\quad \\text{For all }q ∈ \\mathcal{Q}\\text{ do }u_q = (u_q - u_p) / p\\text{ mod }q \\\\\n",
    "7 \\quad & \\text{Until }∀q ∈ \\mathcal{Q}, u_q = 0 \\\\\n",
    "8 \\quad & \\text{Return }|G|\n",
    "\\end{align}\n",
    "$$"
   ]
  },
  {
   "cell_type": "code",
   "execution_count": 21,
   "metadata": {},
   "outputs": [],
   "source": [
    "G = 0"
   ]
  },
  {
   "cell_type": "code",
   "execution_count": 22,
   "metadata": {},
   "outputs": [
    {
     "data": {
      "text/plain": [
       "389"
      ]
     },
     "execution_count": 22,
     "metadata": {},
     "output_type": "execute_result"
    }
   ],
   "source": [
    "p = Q.pop()\n",
    "p"
   ]
  },
  {
   "cell_type": "code",
   "execution_count": 23,
   "metadata": {},
   "outputs": [
    {
     "data": {
      "text/plain": [
       "{313,\n",
       " 317,\n",
       " 331,\n",
       " 337,\n",
       " 347,\n",
       " 349,\n",
       " 359,\n",
       " 367,\n",
       " 373,\n",
       " 379,\n",
       " 383,\n",
       " 397,\n",
       " 401,\n",
       " 409,\n",
       " 419,\n",
       " 421,\n",
       " 431,\n",
       " 433,\n",
       " 439,\n",
       " 443,\n",
       " 449,\n",
       " 457,\n",
       " 461,\n",
       " 463,\n",
       " 467,\n",
       " 479,\n",
       " 487,\n",
       " 491,\n",
       " 499,\n",
       " 503,\n",
       " 509}"
      ]
     },
     "execution_count": 23,
     "metadata": {},
     "output_type": "execute_result"
    }
   ],
   "source": [
    "Q"
   ]
  },
  {
   "cell_type": "code",
   "execution_count": 24,
   "metadata": {},
   "outputs": [
    {
     "data": {
      "text/plain": [
       "-23"
      ]
     },
     "execution_count": 24,
     "metadata": {},
     "output_type": "execute_result"
    }
   ],
   "source": [
    "G = u[p] + p * G\n",
    "G"
   ]
  },
  {
   "cell_type": "code",
   "execution_count": 25,
   "metadata": {},
   "outputs": [
    {
     "data": {
      "text/plain": [
       "{313: 0,\n",
       " 317: 0,\n",
       " 331: 0,\n",
       " 337: 0,\n",
       " 347: 0,\n",
       " 349: 0,\n",
       " 359: 0,\n",
       " 367: 0,\n",
       " 373: 0,\n",
       " 379: 0,\n",
       " 383: 0,\n",
       " 397: 0,\n",
       " 401: 0,\n",
       " 409: 0,\n",
       " 419: 0,\n",
       " 421: 0,\n",
       " 431: 0,\n",
       " 433: 0,\n",
       " 439: 0,\n",
       " 443: 0,\n",
       " 449: 0,\n",
       " 457: 0,\n",
       " 461: 0,\n",
       " 463: 0,\n",
       " 467: 0,\n",
       " 479: 0,\n",
       " 487: 0,\n",
       " 491: 0,\n",
       " 499: 0,\n",
       " 503: 0,\n",
       " 509: 0}"
      ]
     },
     "execution_count": 25,
     "metadata": {},
     "output_type": "execute_result"
    }
   ],
   "source": [
    "for q in Q:\n",
    "    u[q] = (u[q] - u[p]) / p % q\n",
    "    if u[q] > q / 2:\n",
    "        u[q] -= q\n",
    "\n",
    "del u[p]\n",
    "u"
   ]
  },
  {
   "cell_type": "code",
   "execution_count": 26,
   "metadata": {},
   "outputs": [
    {
     "data": {
      "text/plain": [
       "23"
      ]
     },
     "execution_count": 26,
     "metadata": {},
     "output_type": "execute_result"
    }
   ],
   "source": [
    "abs(G)"
   ]
  },
  {
   "cell_type": "code",
   "execution_count": null,
   "metadata": {},
   "outputs": [],
   "source": []
  }
 ],
 "metadata": {
  "kernelspec": {
   "display_name": "SageMath 8.6",
   "language": "",
   "name": "sagemath"
  },
  "language_info": {
   "codemirror_mode": {
    "name": "ipython",
    "version": 2
   },
   "file_extension": ".py",
   "mimetype": "text/x-python",
   "name": "python",
   "nbconvert_exporter": "python",
   "pygments_lexer": "ipython2",
   "version": "2.7.16"
  }
 },
 "nbformat": 4,
 "nbformat_minor": 2
}
